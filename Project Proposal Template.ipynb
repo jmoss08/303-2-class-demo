{
 "cells": [
  {
   "cell_type": "raw",
   "id": "33dd6c4c",
   "metadata": {},
   "source": [
    "---\n",
    "title: \"Project proposal\"\n",
    "format: \n",
    "  html:\n",
    "    toc: true\n",
    "    toc-title: Contents\n",
    "    code-fold: show\n",
    "    self-contained: true\n",
    "jupyter: python3\n",
    "---"
   ]
  },
  {
   "cell_type": "markdown",
   "id": "0116f49b",
   "metadata": {},
   "source": [
    "## Instructions {-}\n",
    "\n",
    "1. Please answer the following questions as part of your project proposal.\n",
    "\n",
    "2. Write your answers in the *Markdown* cells of the Jupyter notebook. You don't need to write any code, but if you want to, you may use the *Code* cells.\n",
    "\n",
    "3. Use [Quarto](https://quarto.org/docs/output-formats/html-basics.html) to print the *.ipynb* file as HTML. You will need to open the command prompt, navigate to the directory containing the file, and use the command: `quarto render filename.ipynb --to html`. Submit the HTML file.\n",
    "\n",
    "4. The project proposal is worth 8 points, and is due on **27th January 2023 at 11:59 pm**. \n",
    "\n",
    "5. You must make one submission as a group, and not individually.\n",
    "\n",
    "6. Each team member must have at least **one commit** on the team's github repository. No points will be awarded to the team member(s) with no commits.\n",
    "\n",
    "7. Share the link of your project's GitHub repository [here](https://docs.google.com/spreadsheets/d/1khao3unpj_vsx4kOSg_Zzo77YK1UWL2w73Oa0aAirOo/edit#gid=0)."
   ]
  },
  {
   "cell_type": "markdown",
   "id": "fe7ea9bb",
   "metadata": {},
   "source": [
    "# 1) Team name\n",
    "Mention your team name.\n",
    "\n",
    "*(0 points)*"
   ]
  },
  {
   "cell_type": "markdown",
   "id": "73fb9dad",
   "metadata": {},
   "source": [
    "The Sneaky Pythons"
   ]
  },
  {
   "cell_type": "markdown",
   "id": "16fccc9b",
   "metadata": {},
   "source": [
    "# 2) Member names\n",
    "Mention the names of your team members.\n",
    "\n",
    "*(0 points)*"
   ]
  },
  {
   "cell_type": "markdown",
   "id": "a7399e14",
   "metadata": {},
   "source": [
    "Alissa Chu, Adam Ruzumna, Judd Moss"
   ]
  },
  {
   "cell_type": "markdown",
   "id": "f1287c13",
   "metadata": {},
   "source": [
    "# 3) Link to the GitHub repository\n",
    "Share the link of the team's project repository on GitHub.\n",
    "\n",
    "Also, put the link of your project's GitHub repository [here](https://docs.google.com/spreadsheets/d/1khao3unpj_vsx4kOSg_Zzo77YK1UWL2w73Oa0aAirOo/edit#gid=0).\n",
    "\n",
    "We believe there is no harm in having other teams view your GitHub repository. However, if you don't want anyone to see your team's work, you may make the repository *Private* and add your instructor and graduate TA as *Colloborators* in it.\n",
    "\n",
    "*(0 points)*"
   ]
  },
  {
   "cell_type": "markdown",
   "id": "2ad35985",
   "metadata": {},
   "source": [
    "https://github.com/jmoss08/303-2-project-proposal"
   ]
  },
  {
   "cell_type": "markdown",
   "id": "16c1a490",
   "metadata": {},
   "source": [
    "# 4) Topic\n",
    "Mention the topic of your course project.\n",
    "\n",
    "*(0.25 points)*"
   ]
  },
  {
   "cell_type": "markdown",
   "id": "e4d402c6",
   "metadata": {},
   "source": [
    "**The topic of our project will be exploring the factors that make a movie successful in terms of gross revenue generation.**"
   ]
  },
  {
   "cell_type": "markdown",
   "id": "9403cdfb",
   "metadata": {},
   "source": [
    "# 5) Problem statement\n",
    "Explain the problem statement. The problem statement must include:\n",
    "\n",
    "1. The problem\n",
    "\n",
    "2. Is it a regression or classification problem or a combination of both?\n",
    "\n",
    "3. Is it an inference or prediction problem or a combination of both?\n",
    "\n",
    "4. How will you assess model accuracy?\n",
    "\n",
    "  - If it is a classification problem, then which measure(s) will you optimize for your model – precision, recall, false negative rate (FNR), accuracy, ROC-AUC etc., and why?\n",
    "  - If it is a regression problem, then which measure(s) will you optimize for your model – RMSE (Root mean squared error), MAE (mean absolute error), maximum absolute error etc., and why?\n",
    "\n",
    "5. What techniques do you think you may need to use to improve your model? If you have too many variables, some of which are  correlated or collinear, you may need to do variable selection *(techniques for variable selection that you will learn later in the course - stepwise regression, lasso, ridge regression)*. If the variables do not have a linear relationship with the response, or if some of the modeling assumptions are not satisfied, you may need to transform the predictors and/or the response (variable transformation) to obtain a better fit.\n",
    "\n",
    "*(5 points)*"
   ]
  },
  {
   "cell_type": "markdown",
   "id": "a0f92466",
   "metadata": {},
   "source": [
    "**The problem we want to explore is what factors make a movie successful. There are many decisions that go into making a movie such as who to hire as actors, directors, etc., how much to spend on production, how much to spend on advertising and so on. Some of the reasoning behind hiring actors or directors could be due to their popularity and social media prescence. We will investigate these factors to determine a model that best predicts the success of a movie using gross revenue as the measure of success. This is a regression problem because the response variable is a continous variable. We are interested in the response variable of gross revenue. This is a prediction problem because we want to predict the revenue a movie will generate based on certain factors. As a regression problem, we’ll look to minimize RMSE because lower values of RMSE indicate a better fit. We chose to look at RMSE over MAE because we want to penalize large errors in predicting gross revenue more. This is because we believe large differences in revenue should be considered more than a few dollars. Additionally, we will try to maximize R2 in order to make sure our model is able to explain as much of the variation in the data without overfitting. We can check for this overfitting by making sure that our training RSE isn’t too low and test RMSE isn’t too high relative to one another. We also may need to consider variable interaction to improve our model. For example, certain combinations of actors and directors may make for a more profitable movie. Increasing revenue with an increase in actor popularity may also depend on an increase in director popularity. Additionally, some variables may need to be transformed. For example, if gross revenue for all movies dipped in certain years and rose in others, a quadratic relationship may be better to model the data than linear. We can check if the linearity assumption is met using residual plots. Also we might need to remove some of our variables using variable selection techniques.**"
   ]
  },
  {
   "cell_type": "markdown",
   "id": "3eb2d4f2",
   "metadata": {},
   "source": [
    "# 6) Data sources\n",
    "\n",
    "What data sources will you use, and how will the data help answer the questions? Explain.\n",
    "\n",
    "If the data is open source, share the link of the data.\n",
    "\n",
    "*(1 point)*"
   ]
  },
  {
   "cell_type": "markdown",
   "id": "28929e1e",
   "metadata": {},
   "source": [
    "**The dataset we will use is called `IMDB 5000 Movie Dataset`. We found it on Kaggle and it covers many various factors related to movie production such as the directors, release year, genre, etc. We will filter out the columns we believe most relevant to predicting the gross revenue.**\n",
    "\n",
    "**Link: <https://www.kaggle.com/datasets/carolzhangdc/imdb-5000-movie-dataset?resource=download>**"
   ]
  },
  {
   "cell_type": "code",
   "execution_count": 11,
   "id": "2d39aa40",
   "metadata": {},
   "outputs": [
    {
     "data": {
      "text/plain": [
       "Index(['color', 'director_name', 'num_critic_for_reviews', 'duration',\n",
       "       'director_facebook_likes', 'actor_3_facebook_likes',\n",
       "       'actor_1_facebook_likes', 'gross', 'genres', 'movie_title',\n",
       "       'num_voted_users', 'cast_total_facebook_likes', 'num_user_for_reviews',\n",
       "       'language', 'country', 'content_rating', 'budget', 'title_year',\n",
       "       'actor_2_facebook_likes', 'imdb_score', 'movie_facebook_likes'],\n",
       "      dtype='object')"
      ]
     },
     "execution_count": 11,
     "metadata": {},
     "output_type": "execute_result"
    }
   ],
   "source": [
    "import pandas as pd\n",
    "movies_data = pd.read_csv('movie_metadata.csv')\n",
    "# drop unnecessary columns\n",
    "movies_data = movies_data.drop(['actor_3_name', 'actor_2_name', 'actor_1_name', 'facenumber_in_poster', 'plot_keywords',\n",
    "                              'movie_imdb_link', 'aspect_ratio'], axis=1)\n",
    "movies_data.columns"
   ]
  },
  {
   "cell_type": "markdown",
   "id": "cb8a845f",
   "metadata": {},
   "source": [
    "# 7) Stakeholders"
   ]
  },
  {
   "cell_type": "markdown",
   "id": "d39c782c",
   "metadata": {},
   "source": [
    "Who are the stakeholders, and how will your project benefit them? Explain.\n",
    "\n",
    "*(1 point)*"
   ]
  },
  {
   "cell_type": "markdown",
   "id": "96e8e876",
   "metadata": {},
   "source": [
    "**The main stakeholders to our project would be movie studio executives looking to get a good prediction of how much money a movie would likely make before committing millions of dollars to producing the movie. Our model aims to show them a good estimate of how much money they can expect to make given the circumstances of any given movie-- this will allow them to maximize their profitability and minimize their risk in the investment. If a director were to propose a certain film to them— with the predictive variables (potential budget, cast members, etc.) already set, then the executive could use our model to see if the proposed film would attain the gross revenue desired.**"
   ]
  },
  {
   "cell_type": "markdown",
   "id": "57e41b2a",
   "metadata": {},
   "source": [
    "# 8) Results\n",
    "What kind of results do you expect? \n",
    "\n",
    "How much accuracy is required / desired in your model (based on the metric(s) chosen in question 5), such that it is useful to the stakeholders and why?\n",
    "\n",
    "**Hint:** If it is a classification model, then your model must be at least better than random classification. If it is a regression model, then your model must be at least better than trivial models, such as the one with only the intercept term.\n",
    "\n",
    "*(0.5 point)*"
   ]
  },
  {
   "cell_type": "markdown",
   "id": "bf52d3ef",
   "metadata": {},
   "source": [
    "**The main aim of our model is to be a predictive model— where executives can get a good idea of the outcome of their potential film based on the predictors involved. Our results must also have a low enough RMSE that movie executives could rely on it when evaluating a film— if the confidence interval is too large of a range, then it provides very little insight since the studio could be making a very large or very small amount of money and it would not know which is likely. Additionally, our model should have better results than a simple linear regression model with only one predictor– this SLR model would likely have a very low R-squared value since there are a large number of variables that lead to a high-grossing film.**"
   ]
  },
  {
   "cell_type": "markdown",
   "id": "0c874b4f",
   "metadata": {},
   "source": [
    "# 9) Work-split\n",
    "How do you plan to split the project work amongst individual team members?\n",
    "\n",
    "*(0.25 point)*"
   ]
  },
  {
   "cell_type": "markdown",
   "id": "e259b5d9",
   "metadata": {},
   "source": [
    "**We plan to split the presentation evenly amongst group members, where we all work together. For the majority of the project, we hope that the writing the final report and coding the graphics/model are split evenly between the three of us.**"
   ]
  }
 ],
 "metadata": {
  "kernelspec": {
   "display_name": "Python 3 (ipykernel)",
   "language": "python",
   "name": "python3"
  },
  "language_info": {
   "codemirror_mode": {
    "name": "ipython",
    "version": 3
   },
   "file_extension": ".py",
   "mimetype": "text/x-python",
   "name": "python",
   "nbconvert_exporter": "python",
   "pygments_lexer": "ipython3",
   "version": "3.9.12"
  }
 },
 "nbformat": 4,
 "nbformat_minor": 5
}
