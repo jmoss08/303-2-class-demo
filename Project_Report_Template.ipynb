{
 "cells": [
  {
   "cell_type": "raw",
   "id": "33dd6c4c",
   "metadata": {},
   "source": [
    "---\n",
    "title: \"Project Report\"\n",
    "subtitle: Team name\n",
    "author: Adam Ruzumna, Judd Moss, and Alissa Chu\n",
    "date: 02/27/2023\n",
    "number-sections: true\n",
    "abstract: _The ABSTRACT is to be in fully-justified italicized text at the top of the report, below the author information. The abstract section must summarise the problem statement, the developed model(s), the metric(s) optimized and the recommendations to the stakeholders based on the model. You may also briefly mention any major EDA-based insights that helped develop the model or directly translated into recommendations to the stakeholders. However, the abstract must not be more than 200 words in length_.\n",
    "format: \n",
    "  html:\n",
    "    toc: true\n",
    "    toc-title: Contents\n",
    "    self-contained: true\n",
    "    font-size: 100%\n",
    "    toc-depth: 4\n",
    "    mainfont: serif\n",
    "jupyter: python3\n",
    "---"
   ]
  },
  {
   "cell_type": "markdown",
   "id": "aba5ee91",
   "metadata": {},
   "source": [
    "## Length of the report {-}\n",
    "The length of the report must be no more than 15 pages, when printed as PDF. However, there is no requirement on the minimum number of pages.\n",
    "\n",
    "You may put additional stuff as Appendix. You may refer to the Appendix in the main report to support your arguments. However, your appendix is unlikely to be checked while grading, unless the grader deems it necessary. The appendix, references, and information about GitHub and individual contribution will not be included in the page count, and there is no limit on the length of the appendix.\n",
    "\n",
    "**Delete this section from the report, when using this template.** "
   ]
  },
  {
   "cell_type": "code",
   "execution_count": 4,
   "id": "77863b47",
   "metadata": {},
   "outputs": [],
   "source": [
    "# import packages\n",
    "import pandas as pd\n",
    "import numpy as np\n",
    "import statsmodels.formula.api as sm\n",
    "import seaborn as sns\n",
    "import matplotlib.pyplot as plt\n",
    "import itertools\n",
    "import time"
   ]
  },
  {
   "cell_type": "code",
   "execution_count": 5,
   "id": "8bd0cc2c",
   "metadata": {},
   "outputs": [
    {
     "name": "stderr",
     "output_type": "stream",
     "text": [
      "/var/folders/p0/ppz0yj5s4qz65pfjbd7vtldh0000gn/T/ipykernel_41777/2563387498.py:5: FutureWarning: The default value of regex will change from True to False in a future version. In addition, single character regular expressions will *not* be treated as literal strings when regex=True.\n",
      "  data.columns = data.columns.str.strip().str.lower().str.replace(' ', '_').str.replace('(', '').str.replace(')', '')\n",
      "/var/folders/p0/ppz0yj5s4qz65pfjbd7vtldh0000gn/T/ipykernel_41777/2563387498.py:5: FutureWarning: The default value of regex will change from True to False in a future version. In addition, single character regular expressions will *not* be treated as literal strings when regex=True.\n",
      "  data.columns = data.columns.str.strip().str.lower().str.replace(' ', '_').str.replace('(', '').str.replace(')', '')\n"
     ]
    }
   ],
   "source": [
    "# import dataset\n",
    "data = pd.read_csv('Life_Expectancy_Data.csv')\n",
    "\n",
    "# clean column names\n",
    "data.columns = data.columns.str.strip().str.lower().str.replace(' ', '_').str.replace('(', '').str.replace(')', '')\n",
    "\n",
    "# rename gdp column to make data more understandable\n",
    "data = data.rename(columns={'gdp': 'gdp_per_capita'})\n",
    "\n",
    "# rename HIV/AIDs column to make it usable\n",
    "data = data.rename(columns={'hiv/aids': 'hiv_aids'})\n",
    "\n",
    "# rename thinness 1-19 column to make it usable\n",
    "data = data.rename(columns={'thinness__1-19_years': 'thinness_1_19_years'})\n",
    "\n",
    "# rename thinness 5-9 column to make it usable\n",
    "data = data.rename(columns={'thinness_5-9_years': 'thinness_5_9_years'})\n",
    "\n",
    "# rename under five deaths column to make it usable\n",
    "data = data.rename(columns={'under-five_deaths': 'under_five_deaths'})"
   ]
  },
  {
   "cell_type": "code",
   "execution_count": 7,
   "id": "7784a687",
   "metadata": {},
   "outputs": [],
   "source": [
    "# Drop columns with suspect data\n",
    "\n",
    "# Dropping suspect columns\n",
    "data.drop(columns=['population', 'bmi', 'infant_deaths', 'percentage_expenditure', 'hepatitis_b', 'alcohol', 'total_expenditure'],inplace=True)\n",
    "    # population: data inconsistent and inaccurate\n",
    "    # bmi: max bmi is over 80, which does not make sense -- lots of values like this\n",
    "    # infant_deaths: mean value is 29-- true world highest value is 27\n",
    "    # percentage_expenditure: seems very inaccurate, large number of values over 100%"
   ]
  },
  {
   "cell_type": "markdown",
   "id": "93d3d9ed",
   "metadata": {},
   "source": [
    "## Code should be put separately in the code template {-}\n",
    "Your report should be in a research-paper like style. If there is something that can only be explained by showing the code, then you may put it, otherwise do not put the code in the report. We will check your code in the code template. \n",
    "\n",
    "**Delete this section from the report, when using this template.** "
   ]
  },
  {
   "cell_type": "code",
   "execution_count": 2,
   "id": "2b347746",
   "metadata": {},
   "outputs": [],
   "source": [
    "# import packages\n",
    "import pandas as pd\n",
    "import numpy as np\n",
    "import statsmodels.formula.api as sm\n",
    "import seaborn as sns\n",
    "import matplotlib.pyplot as plt\n",
    "import itertools\n",
    "import time"
   ]
  },
  {
   "cell_type": "code",
   "execution_count": 5,
   "id": "689e04d3",
   "metadata": {},
   "outputs": [],
   "source": [
    "final_dataset = pd.read_csv('final_dataset.csv')"
   ]
  },
  {
   "cell_type": "markdown",
   "id": "0116f49b",
   "metadata": {},
   "source": [
    "## Background / Motivation\n",
    "\n",
    "What motivated you to work on this problem?\n",
    "\n",
    "Mention any background about the problem, if it is required to understand your analysis later on."
   ]
  },
  {
   "cell_type": "markdown",
   "id": "0347eceb",
   "metadata": {},
   "source": [
    "Life expectancy is one of the most important metrics to use when assessing the health of a certain population. It is the average age of when one dies in that population. Throughout history there has been a relationship between developed countries and higher life expectancies (Roser, Ortiz-Ospina, and Ritchie). Richer countries have more resources available and larger government budgets which can all contribute to higher life expectancies. More developed countries also have the ability to take advantage of their resources through improved healthcare systems and initiatives. Therefore we wanted to research what underdeveloped countries can do to help acheive higher life expectancies. Using data from around the world, we wanted to determine which factors were most associated with life expectancy in order to inform developing nations how to best use their limited resources to improve their population's life expectancies."
   ]
  },
  {
   "cell_type": "markdown",
   "id": "84ff1421",
   "metadata": {},
   "source": [
    "## Problem statement \n",
    "\n",
    "Describe your problem statement. Articulate your objectives using absolutely no jargon. Interpret the problem as inference and/or prediction."
   ]
  },
  {
   "cell_type": "markdown",
   "id": "987a3bc4",
   "metadata": {},
   "source": [
    "One of the most important jobs for governments to execute is to improve the life expectancy of their citizens. Therefore it is crucial for governments to develop ways to improve life expectancy. Furthermore, many countries, especially developing ones, have constrained budgets, and need to be able to improve life expectancy in the most efficient ways possible. Therefore we are exploring the best ways in which governments and health organizations can most efficiently target the factors related to life expectancy to best improve it. We plan to do so through linear regression model while focusing on inference and the relationship between our predictors and life expectancy. "
   ]
  },
  {
   "cell_type": "markdown",
   "id": "38c7b95f",
   "metadata": {},
   "source": [
    "## Data sources\n",
    "What data did you use? Provide details about your data. Include links to data if you are using open-access data."
   ]
  },
  {
   "cell_type": "markdown",
   "id": "63618c63",
   "metadata": {},
   "source": [
    "Link to dataset:\n",
    "https://www.kaggle.com/datasets/kumarajarshi/life-expectancy-who?search=alcohol+effects"
   ]
  },
  {
   "cell_type": "markdown",
   "id": "4cedfe84",
   "metadata": {},
   "source": [
    "We used a World Health Organization (WHO) dataset, compiled on Kaggle. Our variable of interest in the dataset is life expectancy, but it includes a number of other public health and political variables like alcoholism rates, HIV/AIDs numbers, and income distribution. The source contains data from 193 countries, and it spans from 2000-2015. However, not every country has data from each year in that range. The full dataset contains 2938 rows with 22 columns (20 prediction variables)."
   ]
  },
  {
   "cell_type": "markdown",
   "id": "8c255035",
   "metadata": {},
   "source": [
    "## Stakeholders\n",
    "Who cares? If you are successful, what difference will it make to them?"
   ]
  },
  {
   "cell_type": "markdown",
   "id": "7079c470",
   "metadata": {},
   "source": [
    "Our primary stakeholders are the governments of countries who need to know how best to utilize their budgets to maximize life expectancies. This is especially important for countries such as developing countries that have limited amounts to spend. These governments need to identify which specific factors are most correlated with improving life expectancy to best understand how to efficiently allocate their resources. Other stakeholders include health organizations that can assist with advising these governments. By discovering which predictors are important and have the greatest impact on life expectancy, these organizations will have a better understanding of when and how to intervene. Lastly, individual people are stakeholders as well. They can use this data to guide their lifestyle choices such as deciding whether or not to get a certain vaccine, developing healthy habits, and choosing which country to live in. "
   ]
  },
  {
   "cell_type": "markdown",
   "id": "fe7ea9bb",
   "metadata": {},
   "source": [
    "## Data quality check / cleaning / preparation \n",
    "\n",
    "In a tabular form, show the distribution of values of each variable used in the analysis - for both categorical and continuous variables. Distribution of a categorical variable must include the number of missing values, the number of unique values, the frequency of all its levels. If a categorical variable has too many levels, you may just include the counts of the top 3-5 levels. \n",
    "\n",
    "If the tables in this section take too much space, you may put them in the appendix, and just mention any useful insights you obtained from the data quality check that helped you develop the model or helped you realize the necessary data cleaning / preparation.\n",
    "\n",
    "Were there any potentially incorrect values of variables that required cleaning? If yes, how did you clean them? \n",
    "\n",
    "Did you do any data wrangling or data preparation before the data was ready to use for model development? Did you create any new predictors from exisiting predictors? For example, if you have number of transactions and spend in a credit card dataset, you may create spend per transaction for predicting if a customer pays their credit card bill. Mention the steps at a broad level, you may put minor details in the appendix. Only mention the steps that ended up being useful towards developing your final model(s)."
   ]
  },
  {
   "cell_type": "code",
   "execution_count": 8,
   "id": "ce6815de",
   "metadata": {},
   "outputs": [
    {
     "data": {
      "text/html": [
       "<div>\n",
       "<style scoped>\n",
       "    .dataframe tbody tr th:only-of-type {\n",
       "        vertical-align: middle;\n",
       "    }\n",
       "\n",
       "    .dataframe tbody tr th {\n",
       "        vertical-align: top;\n",
       "    }\n",
       "\n",
       "    .dataframe thead th {\n",
       "        text-align: right;\n",
       "    }\n",
       "</style>\n",
       "<table border=\"1\" class=\"dataframe\">\n",
       "  <thead>\n",
       "    <tr style=\"text-align: right;\">\n",
       "      <th></th>\n",
       "      <th>year</th>\n",
       "      <th>life_expectancy</th>\n",
       "      <th>adult_mortality</th>\n",
       "      <th>measles</th>\n",
       "      <th>under_five_deaths</th>\n",
       "      <th>polio</th>\n",
       "      <th>diphtheria</th>\n",
       "      <th>hiv_aids</th>\n",
       "      <th>gdp_per_capita</th>\n",
       "      <th>thinness_1_19_years</th>\n",
       "      <th>thinness_5_9_years</th>\n",
       "      <th>income_composition_of_resources</th>\n",
       "      <th>schooling</th>\n",
       "    </tr>\n",
       "  </thead>\n",
       "  <tbody>\n",
       "    <tr>\n",
       "      <th>count</th>\n",
       "      <td>2938.000000</td>\n",
       "      <td>2928.000000</td>\n",
       "      <td>2928.000000</td>\n",
       "      <td>2938.000000</td>\n",
       "      <td>2938.000000</td>\n",
       "      <td>2919.000000</td>\n",
       "      <td>2919.000000</td>\n",
       "      <td>2938.000000</td>\n",
       "      <td>2490.000000</td>\n",
       "      <td>2904.000000</td>\n",
       "      <td>2904.000000</td>\n",
       "      <td>2771.000000</td>\n",
       "      <td>2775.000000</td>\n",
       "    </tr>\n",
       "    <tr>\n",
       "      <th>mean</th>\n",
       "      <td>2007.518720</td>\n",
       "      <td>69.224932</td>\n",
       "      <td>164.796448</td>\n",
       "      <td>2419.592240</td>\n",
       "      <td>42.035739</td>\n",
       "      <td>82.550188</td>\n",
       "      <td>82.324084</td>\n",
       "      <td>1.742103</td>\n",
       "      <td>7483.158469</td>\n",
       "      <td>4.839704</td>\n",
       "      <td>4.870317</td>\n",
       "      <td>0.627551</td>\n",
       "      <td>11.992793</td>\n",
       "    </tr>\n",
       "    <tr>\n",
       "      <th>std</th>\n",
       "      <td>4.613841</td>\n",
       "      <td>9.523867</td>\n",
       "      <td>124.292079</td>\n",
       "      <td>11467.272489</td>\n",
       "      <td>160.445548</td>\n",
       "      <td>23.428046</td>\n",
       "      <td>23.716912</td>\n",
       "      <td>5.077785</td>\n",
       "      <td>14270.169342</td>\n",
       "      <td>4.420195</td>\n",
       "      <td>4.508882</td>\n",
       "      <td>0.210904</td>\n",
       "      <td>3.358920</td>\n",
       "    </tr>\n",
       "    <tr>\n",
       "      <th>min</th>\n",
       "      <td>2000.000000</td>\n",
       "      <td>36.300000</td>\n",
       "      <td>1.000000</td>\n",
       "      <td>0.000000</td>\n",
       "      <td>0.000000</td>\n",
       "      <td>3.000000</td>\n",
       "      <td>2.000000</td>\n",
       "      <td>0.100000</td>\n",
       "      <td>1.681350</td>\n",
       "      <td>0.100000</td>\n",
       "      <td>0.100000</td>\n",
       "      <td>0.000000</td>\n",
       "      <td>0.000000</td>\n",
       "    </tr>\n",
       "    <tr>\n",
       "      <th>25%</th>\n",
       "      <td>2004.000000</td>\n",
       "      <td>63.100000</td>\n",
       "      <td>74.000000</td>\n",
       "      <td>0.000000</td>\n",
       "      <td>0.000000</td>\n",
       "      <td>78.000000</td>\n",
       "      <td>78.000000</td>\n",
       "      <td>0.100000</td>\n",
       "      <td>463.935626</td>\n",
       "      <td>1.600000</td>\n",
       "      <td>1.500000</td>\n",
       "      <td>0.493000</td>\n",
       "      <td>10.100000</td>\n",
       "    </tr>\n",
       "    <tr>\n",
       "      <th>50%</th>\n",
       "      <td>2008.000000</td>\n",
       "      <td>72.100000</td>\n",
       "      <td>144.000000</td>\n",
       "      <td>17.000000</td>\n",
       "      <td>4.000000</td>\n",
       "      <td>93.000000</td>\n",
       "      <td>93.000000</td>\n",
       "      <td>0.100000</td>\n",
       "      <td>1766.947595</td>\n",
       "      <td>3.300000</td>\n",
       "      <td>3.300000</td>\n",
       "      <td>0.677000</td>\n",
       "      <td>12.300000</td>\n",
       "    </tr>\n",
       "    <tr>\n",
       "      <th>75%</th>\n",
       "      <td>2012.000000</td>\n",
       "      <td>75.700000</td>\n",
       "      <td>228.000000</td>\n",
       "      <td>360.250000</td>\n",
       "      <td>28.000000</td>\n",
       "      <td>97.000000</td>\n",
       "      <td>97.000000</td>\n",
       "      <td>0.800000</td>\n",
       "      <td>5910.806335</td>\n",
       "      <td>7.200000</td>\n",
       "      <td>7.200000</td>\n",
       "      <td>0.779000</td>\n",
       "      <td>14.300000</td>\n",
       "    </tr>\n",
       "    <tr>\n",
       "      <th>max</th>\n",
       "      <td>2015.000000</td>\n",
       "      <td>89.000000</td>\n",
       "      <td>723.000000</td>\n",
       "      <td>212183.000000</td>\n",
       "      <td>2500.000000</td>\n",
       "      <td>99.000000</td>\n",
       "      <td>99.000000</td>\n",
       "      <td>50.600000</td>\n",
       "      <td>119172.741800</td>\n",
       "      <td>27.700000</td>\n",
       "      <td>28.600000</td>\n",
       "      <td>0.948000</td>\n",
       "      <td>20.700000</td>\n",
       "    </tr>\n",
       "  </tbody>\n",
       "</table>\n",
       "</div>"
      ],
      "text/plain": [
       "              year  life_expectancy  adult_mortality        measles  \\\n",
       "count  2938.000000      2928.000000      2928.000000    2938.000000   \n",
       "mean   2007.518720        69.224932       164.796448    2419.592240   \n",
       "std       4.613841         9.523867       124.292079   11467.272489   \n",
       "min    2000.000000        36.300000         1.000000       0.000000   \n",
       "25%    2004.000000        63.100000        74.000000       0.000000   \n",
       "50%    2008.000000        72.100000       144.000000      17.000000   \n",
       "75%    2012.000000        75.700000       228.000000     360.250000   \n",
       "max    2015.000000        89.000000       723.000000  212183.000000   \n",
       "\n",
       "       under_five_deaths        polio   diphtheria     hiv_aids  \\\n",
       "count        2938.000000  2919.000000  2919.000000  2938.000000   \n",
       "mean           42.035739    82.550188    82.324084     1.742103   \n",
       "std           160.445548    23.428046    23.716912     5.077785   \n",
       "min             0.000000     3.000000     2.000000     0.100000   \n",
       "25%             0.000000    78.000000    78.000000     0.100000   \n",
       "50%             4.000000    93.000000    93.000000     0.100000   \n",
       "75%            28.000000    97.000000    97.000000     0.800000   \n",
       "max          2500.000000    99.000000    99.000000    50.600000   \n",
       "\n",
       "       gdp_per_capita  thinness_1_19_years  thinness_5_9_years  \\\n",
       "count     2490.000000          2904.000000         2904.000000   \n",
       "mean      7483.158469             4.839704            4.870317   \n",
       "std      14270.169342             4.420195            4.508882   \n",
       "min          1.681350             0.100000            0.100000   \n",
       "25%        463.935626             1.600000            1.500000   \n",
       "50%       1766.947595             3.300000            3.300000   \n",
       "75%       5910.806335             7.200000            7.200000   \n",
       "max     119172.741800            27.700000           28.600000   \n",
       "\n",
       "       income_composition_of_resources    schooling  \n",
       "count                      2771.000000  2775.000000  \n",
       "mean                          0.627551    11.992793  \n",
       "std                           0.210904     3.358920  \n",
       "min                           0.000000     0.000000  \n",
       "25%                           0.493000    10.100000  \n",
       "50%                           0.677000    12.300000  \n",
       "75%                           0.779000    14.300000  \n",
       "max                           0.948000    20.700000  "
      ]
     },
     "execution_count": 8,
     "metadata": {},
     "output_type": "execute_result"
    }
   ],
   "source": [
    "data.describe()"
   ]
  },
  {
   "cell_type": "code",
   "execution_count": 9,
   "id": "dc6520bc",
   "metadata": {},
   "outputs": [
    {
     "data": {
      "text/plain": [
       "country                              0\n",
       "year                                 0\n",
       "status                               0\n",
       "life_expectancy                     10\n",
       "adult_mortality                     10\n",
       "measles                              0\n",
       "under_five_deaths                    0\n",
       "polio                               19\n",
       "diphtheria                          19\n",
       "hiv_aids                             0\n",
       "gdp_per_capita                     448\n",
       "thinness_1_19_years                 34\n",
       "thinness_5_9_years                  34\n",
       "income_composition_of_resources    167\n",
       "schooling                          163\n",
       "dtype: int64"
      ]
     },
     "execution_count": 9,
     "metadata": {},
     "output_type": "execute_result"
    }
   ],
   "source": [
    "data.isnull().sum()"
   ]
  },
  {
   "cell_type": "markdown",
   "id": "6687a8d9",
   "metadata": {},
   "source": [
    "<html>\n",
    "<style>\n",
    "table, td, th {\n",
    "  border: 1px solid black;\n",
    "}\n",
    "\n",
    "table {\n",
    "  border-collapse: collapse;\n",
    "  width: 100%;\n",
    "}\n",
    "\n",
    "th {\n",
    "  text-align: left;\n",
    "}\n",
    "    \n",
    "\n",
    "</style>\n",
    "<body>\n",
    "\n",
    "<h3>Distribution of Values for Variables</h3>\n",
    "\n",
    "<table style=\"width:100%\">\n",
    "     <colgroup>\n",
    "       <col span=\"1\" style=\"width: 15%;\">\n",
    "       <col span=\"1\" style=\"width: 20%;\">\n",
    "       <col span=\"1\" style=\"width: 50%;\">\n",
    "       <col span=\"1\" style=\"width: 15%;\"> \n",
    "    </colgroup>\n",
    "  <tr>\n",
    "    <th>Variable</th>\n",
    "    <th>Missing Values</th>\n",
    "    <th>Unique Values</th>\n",
    "    <th>Number of GitHub commits</th>\n",
    "  </tr>\n",
    "  <tr>\n",
    "    <td>Elton John</td>\n",
    "    <td>Data cleaning and EDA</td>\n",
    "    <td>Cleaned data to impute missing values and developed visualizations to identify appropriate variable transformations.</td>\n",
    "    <td>100</td>\n",
    "  </tr>\n",
    "  <tr>\n",
    "    <td>Xena Valenzuela</td>\n",
    "    <td>Assumptions and interactions</td>\n",
    "    <td>Checked and addressed modeling assumptions and identified relevant variable interactions.</td>\n",
    "    <td>120</td>\n",
    "  </tr>\n",
    "    <tr>\n",
    "    <td>Sankaranarayanan Balasubramanian</td>\n",
    "    <td>Outlier and influential points treatment</td>\n",
    "    <td>Identified outliers/influential points and analayzed their effect on the model.</td>\n",
    "    <td>130</td>    \n",
    "  </tr>\n",
    "    <tr>\n",
    "    <td>Chun-Li</td>\n",
    "    <td>Variable selection and addressing overfitting</td>\n",
    "    <td>Performed variable selection on an exhaustive set of predictors to address multicollinearity and overfitting.</td>\n",
    "    <td>150</td>    \n",
    "  </tr>\n",
    "</table>"
   ]
  },
  {
   "cell_type": "markdown",
   "id": "cedfdd26",
   "metadata": {},
   "source": [
    "We began our data cleaning process by dropping 5 variables: 'population', 'bmi', 'infant_deaths', 'percentage_expenditure', 'hepatitis_b', 'alcohol', and 'total_expenditure'.\n",
    "\n",
    "For population, bmi, and infant_deaths, we found that the dataset contained enough inaccurate data where the variables were not worth including. For infant_deaths in particular, the mean value was 29 deaths per 1000 births-- despite the world's current highest value being 27. Population and bmi had similarly suspect values.\n",
    "\n",
    "For hepatitis_b, alcohol, and total_expenditure, the data was not inaccurate, but these variables had little correlation to our variable of interest and they had a number of missing values. Thus, we decided that they were better to exclude from our dataset rather than drop the entire row because of on missing value. We were hesitant to impute values for these variables, since we felt that countries situations are too complex for us to assume a particular value.\n",
    "\n",
    "Next, we dropped the missing values from the'gdp_per_capita' and'income_composition_of_resources' columns. These variables were both important for our model, and thus felt they were important to include. Given some missing variables, we had to drop the rows with the missing data. The rest of the dataset had a very small number of missing values dispersed over a few different variables-- we dropped these rows as well. These rows were less significant since there were very few of them.\n",
    "\n",
    "Our final step in the cleaning process was filtering out some illogical data that we found with our gdp_per_capita and under_five_deaths variables. While they were generally consistent with their data, we did need to filter gdp_per_capita to be above 108 -- the lowest value at the time period-- and filter under_five_deaths to be below 225 -- the highest value for the time period. This change filtered out a number of rows of data that had likely been mis-inputted.\n",
    "\n",
    "After cleaning, we added a new variable to the dataset: continent. Using the continents dataset from class, we created a new dataframe with just the continent and country variables. Then, using a merge of this new dataframe with our larger dataset, we were able to line up the continent values with their appropriate countries in the full dataset."
   ]
  },
  {
   "cell_type": "markdown",
   "id": "fbb11c9b",
   "metadata": {},
   "source": [
    "## Exploratory data analysis"
   ]
  },
  {
   "cell_type": "markdown",
   "id": "e4bd74a9",
   "metadata": {},
   "source": [
    "Put the relevant EDA here (visualizations, tables, etc.) that helped you figure out useful predictors for developing the model(s). Only put the EDA that ended up being useful towards developing your final model(s). \n",
    "\n",
    "List the insights (as bullet points) you got from EDA that ended up being useful towards developing your final model. \n",
    "\n",
    "Again, if there are too many plots / tables, you may put them into appendix, and just mention the insights you got from them."
   ]
  },
  {
   "cell_type": "code",
<<<<<<< Updated upstream
   "execution_count": 6,
=======
   "execution_count": 7,
>>>>>>> Stashed changes
   "id": "07ed3e64",
   "metadata": {},
   "outputs": [
    {
<<<<<<< Updated upstream
     "ename": "NameError",
     "evalue": "name 'train' is not defined",
     "output_type": "error",
     "traceback": [
      "\u001b[0;31m---------------------------------------------------------------------------\u001b[0m",
      "\u001b[0;31mNameError\u001b[0m                                 Traceback (most recent call last)",
      "Input \u001b[0;32mIn [6]\u001b[0m, in \u001b[0;36m<cell line: 2>\u001b[0;34m()\u001b[0m\n\u001b[1;32m      1\u001b[0m \u001b[38;5;66;03m# Exploring different distributions of life expectancy by continent - Judd Moss\u001b[39;00m\n\u001b[0;32m----> 2\u001b[0m sns\u001b[38;5;241m.\u001b[39mdisplot(data \u001b[38;5;241m=\u001b[39m \u001b[43mtrain\u001b[49m, x \u001b[38;5;241m=\u001b[39m \u001b[38;5;124m'\u001b[39m\u001b[38;5;124mlife_expectancy\u001b[39m\u001b[38;5;124m'\u001b[39m,kind \u001b[38;5;241m=\u001b[39m \u001b[38;5;124m'\u001b[39m\u001b[38;5;124mkde\u001b[39m\u001b[38;5;124m'\u001b[39m, hue\u001b[38;5;241m=\u001b[39m\u001b[38;5;124m'\u001b[39m\u001b[38;5;124mcontinent\u001b[39m\u001b[38;5;124m'\u001b[39m)\u001b[38;5;241m.\u001b[39mset_titles(\u001b[38;5;124m\"\u001b[39m\u001b[38;5;124mLife Expectancy Distribution by Continent\u001b[39m\u001b[38;5;124m\"\u001b[39m)\n\u001b[1;32m      3\u001b[0m plt\u001b[38;5;241m.\u001b[39mshow()\n",
      "\u001b[0;31mNameError\u001b[0m: name 'train' is not defined"
     ]
=======
     "data": {
      "image/png": "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\n",
      "text/plain": [
       "<Figure size 442.5x360 with 1 Axes>"
      ]
     },
     "metadata": {
      "needs_background": "light"
     },
     "output_type": "display_data"
>>>>>>> Stashed changes
    }
   ],
   "source": [
    "# Exploring different distributions of life expectancy by continent - Judd Moss\n",
    "sns.displot(data = final_dataset, x = 'life_expectancy',kind = 'kde', hue='continent').set_titles(\"Life Expectancy Distribution by Continent\")\n",
    "plt.show()"
   ]
  },
  {
   "cell_type": "markdown",
   "id": "8136b2f5",
   "metadata": {},
   "source": [
    "- Different continents have different life expectancy distributions - therefore it makes sense to use continents as a categorical variable"
   ]
  },
  {
   "cell_type": "code",
   "execution_count": 8,
   "id": "5788fa75",
   "metadata": {},
   "outputs": [
    {
     "data": {
      "text/plain": [
       "<AxesSubplot:>"
      ]
     },
     "execution_count": 8,
     "metadata": {},
     "output_type": "execute_result"
    },
    {
     "data": {
      "image/png": "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\n",
      "text/plain": [
       "<Figure size 864x720 with 2 Axes>"
      ]
     },
     "metadata": {},
     "output_type": "display_data"
    }
   ],
   "source": [
    "\n",
    "sns.set(rc={'figure.figsize':(12,10)})\n",
    "sns.heatmap(final_dataset.corr(), cmap='tab10')"
   ]
  },
  {
   "cell_type": "markdown",
   "id": "a5a5bb50",
   "metadata": {},
   "source": [
    "**It appears most of our predictors are correlated with life expectancy. These ones have the strongest correlation and therefore we predicted would end up in our regression model:**\n",
    "\n",
    "- `hiv_aids`\n",
    "- `gdp_per_capita`\n",
    "- `thinness_1_19_years` and `thinness_5_9_years`\n",
    "- `income_composition_of_resources`\n",
    "- `schooling`"
   ]
  },
  {
   "cell_type": "code",
   "execution_count": null,
   "id": "e84471b6",
   "metadata": {},
   "outputs": [],
   "source": [
    "# check scatterplot of income_composition_of_resources and life expectancy - Judd\n",
    "ax = sns.scatterplot(data = train, x = 'income_composition_of_resources',y = 'life_expectancy', hue='continent')\n",
    "ax.set_title(\"Life Expectancy by Continent\")\n",
    "plt.show()"
   ]
  },
  {
   "cell_type": "markdown",
   "id": "a9487587",
   "metadata": {},
   "source": [
    "- `income_composition_of_resources` measures on a scale of 0 to 1, a countries ability to utilize its resources. We can see many of the countries with values of `income_composition_of_resources` have a higher life expectancy. "
   ]
  },
  {
   "cell_type": "markdown",
   "id": "d39c782c",
   "metadata": {},
   "source": [
    "## Approach\n",
    "\n",
    "What kind of a model (linear / logistic / other) did you use? What performance metric(s) did you optimize and why?\n",
    "\n",
    "Is there anything unorthodox / new in your approach? \n",
    "\n",
    "What problems did you anticipate? What problems did you encounter? Did the very first model you tried work? \n",
    "\n",
    "Did your problem already have solution(s) (posted on Kaggle or elsewhere). If yes, then how did you build upon those solutions, what did you do differently? Is your model better as compared to those solutions in terms of prediction / inference?\n",
    "\n",
    "**Important: Mention any code repositories (with citations) or other sources that you used, and specifically what changes you made to them for your project.**"
   ]
  },
  {
   "cell_type": "markdown",
   "id": "4de2745d",
   "metadata": {},
   "source": [
    "We chose a linear regression model with a focus on inference rather than prediction. This is because it is likely more important for a government to want to know which factors have the greatest effect on life expectancy rather than predicting an exact life expectancy. Therefore, they can focus on minimizing or maximizing the effect of certain predictors instead of just predicting what their life expectancy may be. In order to find the most helpful predictors, we focused on minimizing RMSE, maximizing R-squared, and making sure that each predictor was statistically significant in the final model. We followed a traditional approach of subset selection and later adding transformations and interactions that is detailed below in the \"Developing the Model\" section. However, we ran into some issues with messy data and multicollinearity that we were able to fix with EDA, data cleaning, and VIF analysis. Another problem we faced was balancing the interpretability of the model with adding the transformations and interactions that reduced RMSE and increased R-squared the most. We found that adding several transformaions and interactions helped the most with RMSE and R-squared but made it difficult to understand which predictors were responsible for affecting life expectancy and the magnitude of their effect. Therefore, we chose a model that was not our lowest RMSE and highest R-squared but still had relatively low RMSE and relatively high R-squared as well as being intrepretable."
   ]
  },
  {
   "cell_type": "markdown",
   "id": "acab331a",
   "metadata": {},
   "source": [
    "## Developing the model"
   ]
  },
  {
   "cell_type": "markdown",
   "id": "ae5ec4c9",
   "metadata": {},
   "source": [
    "Explain the steps taken to develop and improve the base model - informative visualizations / addressing modeling assumption violations / variable transformation / interactions / outlier treatment / influential points treatment / addressing over-fitting / addressing multicollinearity / variable selection - stepwise regression, lasso, ridge regression). \n",
    "\n",
    "Did you succeed in achieving your goal, or did you fail? Why?\n",
    "\n",
    "**Put the final model equation**.\n",
    "\n",
    "**Important: This section should be rigorous and thorough. Present detailed information about decision you made, why you made them, and any evidence/experimentation to back them up.**"
   ]
  },
  {
   "cell_type": "markdown",
   "id": "94473ba3",
   "metadata": {},
   "source": [
    "We first started with creating a model that included all of the predictors, no interactions, and no transformations. This gave us baseline metrics to compare future models to. From this first model, we had an RMSE of 3.64, and R-squared of 0.875, and all predictors except for thinness_1_19_years were statistically significant. These metrics were already looking similar to what we wanted, but we believed that we could improve them further. "
   ]
  },
  {
   "cell_type": "markdown",
   "id": "914eb3e7",
   "metadata": {},
   "source": [
    "Our next step was to create a model with the 9 selected predictors from a forward stepwise selection that helped to efficiently choose the best predictors and address some multicollinearity. Those predictors were income_composition_of_resources, hiv_aids, adult_mortality, under_five_deaths, diphtheria, thinness_1_19_years, gdp_per_capita, polio, and measles. After creating these two models (one with all of the predictors and one with the predictors selected from the forward stepwise selection procedure), we compared the R-squared and RMSE of both. We found that R-squared decreased from 0.875 to 0.861 and RMSE increased from 3.64 to 3.85 when we went from the original model to the forward stepwise selection model. This was the opposite of what we expected, so we decided to visualize the relationships between some of the predictors and the residuals."
   ]
  },
  {
   "cell_type": "markdown",
   "id": "8d5b0918",
   "metadata": {},
   "source": [
    "From these visualizations, we found that income_composition_of_resources, adult_mortality, thinness_1_19_years, and under_five_deaths violated the linearity assumption and that a combination of quadratic and cubic transformations could help address this. Additionally, polio and hiv_aids violated both the linearity and constant variance assumptions and a combination of quadratic, cubic, and log transformations could help with this. The equation for the third model we created with these transformations is given by:\n",
    "- ols_object = sm.ols(formula = 'life_expectancy ~ adult_mortality + I(adult_mortality ** 2) + I(adult_mortality ** 3) + income_composition_of_resources + I(income_composition_of_resources ** 2) + I(income_composition_of_resources ** 3) + measles + under_five_deaths + I(under_five_deaths ** 2) + I(under_five_deaths ** 3) + polio + I(polio ** 2) + I(polio ** 3) + np.log(polio) + diphtheria + hiv_aids + I(hiv_aids ** 2) + I(hiv_aids ** 3) + np.log(hiv_aids) + gdp_per_capita + thinness_1_19_years + I(thinness_1_19_years ** 2)', data=train).fit( )\n",
    "\n",
    "This third model returned an R-squared of .922 and an RMSE of 2.93, an improvement from the previous two models."
   ]
  },
  {
   "cell_type": "markdown",
   "id": "ee77afc6",
   "metadata": {},
   "source": [
    "Next, we wanted to make sure that influential points were not affecting our model. We calculated the leverage statistic for each oversavtion, found the average leverage of all the points, and determined the cutoff for high leverage to be 4 times the average leverage. From this, we dropped the influential points from our train data and refit the model. After dropping influential points the model RMSE decreased from 2.93 to 2.926 years and R-squared increased from .922 to .923."
   ]
  },
  {
   "cell_type": "markdown",
   "id": "4e628e90",
   "metadata": {},
   "source": [
    "We also wanted to explore if any categorical variables could improve the model even further because the forward stepwise selection only seemed to take the quantitative variables into account. After creating a new variable, continent, by categorizing each observation by their country into their respective continents, we added continent as a predictor to the model. This improved the model by reducing RMSE to 2.845 and increasing R-squared to .926."
   ]
  },
  {
   "cell_type": "markdown",
   "id": "6302971f",
   "metadata": {},
   "source": [
    "Although the RMSE and R-squared from this fifth model were the best of all the models so far, we realized that the multiple transformations made the model extremely hard to intrepret. When considering our stakeholders and what they would be looking for, we found out that it may be hard to draw conclusions about the effects of specific predictors when they have had multiple transformations. Therefore, we decided to create a sixth model that was a better balance between maximizing metrics and inrpretability. This is given by the equation below: \n",
    "- **final model equation**: \n",
    "- ols_object = sm.ols(formula ='life_expectancy ~ continent + income_composition_of_resources + I(income_composition_of_resources ** 2) + measles + under_five_deaths + polio + diphtheria + diphtheria * continent + hiv_aids + np.log(gdp_per_capita)', data=train_filtered).fit( )\n",
    "\n",
    "This model returned an R-squared of .896 and an RMSE of 3.264 which was still an improvement from the first two models fitted but was much more intrepretable than the third, fourth, and fifth models. We chose to sacrifice some R-squared and RMSE because we are focused on inference rather than prediction. Additionally, each of the predictors were still statistically significant. Lastly, we found that the train RSE was 3.388 for this model which was very similar to the test RMSE. This indicates that there was not overfitting."
   ]
  },
  {
   "cell_type": "markdown",
   "id": "63a149de",
   "metadata": {},
   "source": [
    "We believe we were successful in achieving our goal because we were able to create a model with relatively low RMSE, relatively high R-squared, had all statistically significant predictors, was possible to draw relevant conclusions from, and did not overfit."
   ]
  },
  {
   "cell_type": "markdown",
   "id": "1b46343d",
   "metadata": {},
   "source": [
    "## Limitations of the model with regard to inference / prediction"
   ]
  },
  {
   "cell_type": "markdown",
   "id": "c85ead90",
   "metadata": {},
   "source": [
    "If it is inference, will the inference hold for a certain period of time, for a certain subset of population, and / or for certain conditions.\n",
    "\n",
    "If it is prediction, then will it be possible / convenient / expensive for the stakeholders to collect the data relating to the predictors in the model. Using your model, how soon will the stakeholder be able to predict the outcome before the outcome occurs. For example, if the model predicts the number of bikes people will rent in Evanston on a certain day, then how many days before that day will your model be able to make the prediction. This will depend on how soon the data that your model uses becomes available. If you are predicting election results, how many days / weeks / months / years before the election can you predict the results. \n",
    "\n",
    "When will your model become too obsolete to be useful?"
   ]
  },
  {
   "cell_type": "markdown",
   "id": "4281dab1",
   "metadata": {},
   "source": [
    "We created an inference model, meaning that we hope to learn information about which individual predictors will affect a country's life expectancy. Given the fact that public health dangers -- like poverty, starvation, and disease -- are relatively constant in their effects on a population, our model should be able to work for decades to come. As we have stated, our model provides the most value to developing countries in particular, and the inferences that these nations could make based on our model will hold true for a long period of time. After a few decades, and with breakthroughs in modern medicine, our inference values will eventually become obsolete because certain diseases will no longer harm humans as severely as they do today.\n",
    "\n",
    "Additionally, a wealthy, developed nation should not turn to our model for assistance in increasing their nation's life expectancy. While our model could likely increase their value marginally, it works most efficiently for underdeveloped and developed economies."
   ]
  },
  {
   "cell_type": "markdown",
   "id": "f6026cb7",
   "metadata": {},
   "source": [
    "## Other sections *(optional)*\n",
    "\n",
    "You are welcome to introduce additional sections or subsections, if required, to address any specific aspects of your project in detail. For example, you may briefly discuss potential future work that the research community could focus on to make further progress in the direction of your project's topic."
   ]
  },
  {
   "cell_type": "markdown",
   "id": "62a185cb",
   "metadata": {},
   "source": [
    "## Conclusions and Recommendations to stakeholder(s)\n",
    "\n",
    "What conclusions do you draw based on your model? If it is inference you may draw conclusions based on the coefficients, statistical significance of predictors / interactions, etc. If it is prediction, you may draw conclusions based on prediction accuracy, or other performance metrics.\n",
    "\n",
    "How do you use those conclusions to come up with meaningful recommendations for stakeholders? The recommendations must be action-items for stakeholders that they can directly implement without any further analysis. Be as precise as possible. The stakeholder(s) are depending on you to come up with practically implementable recommendations, instead of having to think for themselves.\n",
    "\n",
    "If your recommendations are not practically implementable by stakeholders, how will they help them? Is there some additional data / analysis / domain expertise you need to do to make the recommendations implementable? \n",
    "\n",
    "Do the stakeholder(s) need to be aware about some limitations of your model? Is your model only good for one-time use, or is it possible to update your model at a certain frequency (based on recent data) to keep using it in the future? If it can be used in the future, then for how far into the future?"
   ]
  },
  {
   "cell_type": "markdown",
   "id": "3bdc9181",
   "metadata": {},
   "source": [
    "We believe that our final model provides vital information to our stakeholders on how they should allocate their limited resources. The majority of this information falls in the public health sphere.\n",
    "\n",
    "By looking into vaccination rates for different diseases, our stakeholders can make the important decision on how to spend their public health budget. Looking at diphtheria vaccination percentage in Africa, the coefficient on this variable was 0.0562. For polio vaccination rates, on the other hand, the coefficient was 0.0179. This means that diphtheria vaccination in Africa was more than 3 times more effective at increasing life expectancy than polio vaccination. Obviously, developing nations should consult with their own public health officials change policy in a way that uniquely fits their own country. However, for an African nation with a limited budget needing to pick between the most effective vaccine, our model allows them to do so. Another valuable change that we added to our model was an interaction variable between diphtheria and continent. Now, when we consider dipheria rates in the Americas, the coefficient falls to 0.0148. Not only have we shown that the Americas are less significantly affected by diphtheria than Africa -- something that most people likely knew -- but we have concrete evidence for the fact that it is severe at a similar rate to polio. For developing nations in the Americas, they could use this information to dictate their budgets as well.\n",
    "\n",
    "One of the strongest coefficients we had was the HIV/AIDs variable, which had a coefficient of -0.4475. This variable measured deaths caused by HIV/AIDs per 1,000 live births in a nation. In this case, most developed nations had extremely low values for this variable. However, for each increase in one death per 1,000 live births, the average life expectancy of a nation should expect to drop by about -0.45 years. This variable overall is indicative of the prevalence of HIV/AIDs in a nation overall, since children get the virus in the womb from their mothers being infected. By demonstrating the severe impact of this disease, our stakeholders should place combatting HIV/AIDs as one of their top public health priorities.\n",
    "\n",
    "As we knew that economic variables like gdp_per_capita were correlated with life expectancy, we also included these in our model. However, since all nations are constantly fighting to increase their wealth already, our model does not provide valuable feedback in this regard.\n",
    "\n",
    "Overall, given updated data every few years, our model has no clear date where it will become obsolete. In the long term, if global poverty were to subsist, then our stakeholders would no longer exist. However, this does not seem unrealistic any time soon. In the mean time, we believe that our stakeholders -- underdeveloped nations and organizations looking to aid them -- can gain lots of valuable information from our model."
   ]
  },
  {
   "cell_type": "markdown",
   "id": "9c44497c",
   "metadata": {},
   "source": [
    "## GitHub and individual contribution {-}"
   ]
  },
  {
   "cell_type": "markdown",
   "id": "c98b3f66",
   "metadata": {},
   "source": [
    "Put the **Github link** for the project repository."
   ]
  },
  {
   "cell_type": "markdown",
   "id": "0ca45613",
   "metadata": {},
   "source": [
    "Add details of each team member's contribution in the table below."
   ]
  },
  {
   "cell_type": "markdown",
   "id": "5505da5c",
   "metadata": {},
   "source": [
    "<html>\n",
    "<style>\n",
    "table, td, th {\n",
    "  border: 1px solid black;\n",
    "}\n",
    "\n",
    "table {\n",
    "  border-collapse: collapse;\n",
    "  width: 100%;\n",
    "}\n",
    "\n",
    "th {\n",
    "  text-align: left;\n",
    "}\n",
    "    \n",
    "\n",
    "</style>\n",
    "<body>\n",
    "\n",
    "<h2>Individual contribution</h2>\n",
    "\n",
    "<table style=\"width:100%\">\n",
    "     <colgroup>\n",
    "       <col span=\"1\" style=\"width: 15%;\">\n",
    "       <col span=\"1\" style=\"width: 20%;\">\n",
    "       <col span=\"1\" style=\"width: 50%;\">\n",
    "       <col span=\"1\" style=\"width: 15%;\"> \n",
    "    </colgroup>\n",
    "  <tr>\n",
    "    <th>Team member</th>\n",
    "    <th>Contributed aspects</th>\n",
    "    <th>Details</th>\n",
    "    <th>Number of GitHub commits</th>\n",
    "  </tr>\n",
    "  <tr>\n",
    "    <td>Elton John</td>\n",
    "    <td>Data cleaning and EDA</td>\n",
    "    <td>Cleaned data to impute missing values and developed visualizations to identify appropriate variable transformations.</td>\n",
    "    <td>100</td>\n",
    "  </tr>\n",
    "  <tr>\n",
    "    <td>Xena Valenzuela</td>\n",
    "    <td>Assumptions and interactions</td>\n",
    "    <td>Checked and addressed modeling assumptions and identified relevant variable interactions.</td>\n",
    "    <td>120</td>\n",
    "  </tr>\n",
    "    <tr>\n",
    "    <td>Sankaranarayanan Balasubramanian</td>\n",
    "    <td>Outlier and influential points treatment</td>\n",
    "    <td>Identified outliers/influential points and analayzed their effect on the model.</td>\n",
    "    <td>130</td>    \n",
    "  </tr>\n",
    "    <tr>\n",
    "    <td>Chun-Li</td>\n",
    "    <td>Variable selection and addressing overfitting</td>\n",
    "    <td>Performed variable selection on an exhaustive set of predictors to address multicollinearity and overfitting.</td>\n",
    "    <td>150</td>    \n",
    "  </tr>\n",
    "</table>"
   ]
  },
  {
   "cell_type": "markdown",
   "id": "192bbd23",
   "metadata": {},
   "source": [
    "List the **challenges** you faced when collaborating with the team on GitHub. Are you comfortable using GitHub? \n",
    "Do you feel GitHuB made collaboration easier? If not, then why? *(Individual team members can put their opinion separately, if different from the rest of the team)*"
   ]
  },
  {
   "cell_type": "markdown",
   "id": "00b1cafe",
   "metadata": {},
   "source": [
    "## References {-}"
   ]
  },
  {
   "cell_type": "markdown",
   "id": "ebdb1aad",
   "metadata": {},
   "source": [
    "List and number all bibliographical references. When referenced in the text, enclose the citation number in square brackets, for example [1].\n",
    "\n",
    "[1] Authors. The frobnicatable foo filter, 2014. Face and Gesture submission ID 324. Supplied as additional material\n",
    "fg324.pdf. 3\n"
   ]
  },
  {
   "cell_type": "markdown",
   "id": "5831751c",
   "metadata": {},
   "source": [
    "## Appendix {-}"
   ]
  },
  {
   "cell_type": "markdown",
   "id": "d13d374d",
   "metadata": {},
   "source": [
    "You may put additional stuff here as Appendix. You may refer to the Appendix in the main report to support your arguments. However, the appendix section is unlikely to be checked while grading, unless the grader deems it necessary."
   ]
  }
 ],
 "metadata": {
  "kernelspec": {
   "display_name": "Python 3 (ipykernel)",
   "language": "python",
   "name": "python3"
  },
  "language_info": {
   "codemirror_mode": {
    "name": "ipython",
    "version": 3
   },
   "file_extension": ".py",
   "mimetype": "text/x-python",
   "name": "python",
   "nbconvert_exporter": "python",
   "pygments_lexer": "ipython3",
   "version": "3.9.12"
  }
 },
 "nbformat": 4,
 "nbformat_minor": 5
}
