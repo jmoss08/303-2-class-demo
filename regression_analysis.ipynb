{
 "cells": [
  {
   "cell_type": "raw",
   "id": "978defb2",
   "metadata": {},
   "source": [
    "# ---\n",
    "title: \"Regression Analysis\"\n",
    "format: \n",
    "  html:\n",
    "    toc: true\n",
    "    toc-title: Contents\n",
    "    toc-depth: 4\n",
    "    code-fold: show\n",
    "    self-contained: true\n",
    "    html-math-method: mathml \n",
    "jupyter: python3\n",
    "---"
   ]
  },
  {
   "cell_type": "markdown",
   "id": "b45054b9",
   "metadata": {},
   "source": [
    "Link to dataset:\n",
    "https://www.kaggle.com/datasets/kumarajarshi/life-expectancy-who?search=alcohol+effects"
   ]
  },
  {
   "cell_type": "markdown",
   "id": "9e685b2e",
   "metadata": {},
   "source": [
    "### Load Packages"
   ]
  },
  {
   "cell_type": "code",
   "execution_count": 126,
   "id": "8f77b2c9",
   "metadata": {},
   "outputs": [],
   "source": [
    "# import packages\n",
    "import pandas as pd\n",
    "import numpy as np\n",
    "import statsmodels.formula.api as sm\n",
    "import seaborn as sns\n",
    "import matplotlib.pyplot as plt\n",
    "import itertools\n",
    "import time"
   ]
  },
  {
   "cell_type": "markdown",
   "id": "08cee9ce",
   "metadata": {},
   "source": [
    "## Load dataset and clean data - Adam"
   ]
  },
  {
   "cell_type": "code",
   "execution_count": 80,
   "id": "cdae4d9a",
   "metadata": {},
   "outputs": [
    {
     "name": "stderr",
     "output_type": "stream",
     "text": [
      "/var/folders/0x/61vcmsg94cs94n1kc433lq8w0000gn/T/ipykernel_93192/955355231.py:5: FutureWarning: The default value of regex will change from True to False in a future version. In addition, single character regular expressions will *not* be treated as literal strings when regex=True.\n",
      "  data.columns = data.columns.str.strip().str.lower().str.replace(' ', '_').str.replace('(', '').str.replace(')', '')\n",
      "/var/folders/0x/61vcmsg94cs94n1kc433lq8w0000gn/T/ipykernel_93192/955355231.py:5: FutureWarning: The default value of regex will change from True to False in a future version. In addition, single character regular expressions will *not* be treated as literal strings when regex=True.\n",
      "  data.columns = data.columns.str.strip().str.lower().str.replace(' ', '_').str.replace('(', '').str.replace(')', '')\n"
     ]
    }
   ],
   "source": [
    "# import dataset\n",
    "data = pd.read_csv('Life_Expectancy_Data.csv')\n",
    "\n",
    "# clean column names\n",
    "data.columns = data.columns.str.strip().str.lower().str.replace(' ', '_').str.replace('(', '').str.replace(')', '')\n",
    "\n",
    "# rename gdp column to make data more understandable\n",
    "data = data.rename(columns={'gdp': 'gdp_per_capita'})\n",
    "\n",
    "# rename HIV/AIDs column to make it usable\n",
    "data = data.rename(columns={'hiv/aids': 'hiv_aids'})\n",
    "\n",
    "# rename thinness 1-19 column to make it usable\n",
    "data = data.rename(columns={'thinness__1-19_years': 'thinness_1_19_years'})\n",
    "\n",
    "# rename thinness 5-9 column to make it usable\n",
    "data = data.rename(columns={'thinness_5-9_years': 'thinness_5_9_years'})\n",
    "\n",
    "# rename under five deaths column to make it usable\n",
    "data = data.rename(columns={'under-five_deaths': 'under_five_deaths'})\n",
    "\n"
   ]
  },
  {
   "cell_type": "code",
   "execution_count": 81,
   "id": "375c2232",
   "metadata": {
    "scrolled": false
   },
   "outputs": [],
   "source": [
    "# Drop columns with suspect data\n",
    "\n",
    "# Dropping 'population' column\n",
    "data.drop(columns=['population', 'bmi', 'infant_deaths', 'percentage_expenditure', 'hepatitis_b', 'alcohol', 'total_expenditure'],inplace=True)\n",
    "    # population: data inconsistent and inaccurate\n",
    "    # bmi: max bmi is over 80, which does not make sense -- lots of values like this\n",
    "    # infant_deaths: mean value is 29-- true world highest value is 27\n",
    "    # percentage_expenditure: seems very inaccurate, large number of values over 100%"
   ]
  },
  {
   "cell_type": "code",
   "execution_count": 82,
   "id": "44034a99",
   "metadata": {},
   "outputs": [],
   "source": [
    "# Additional Cleaning -- Dropping Missing Values\n",
    "\n",
    "# drop missing gdp, life_expectancy, income_composition_of_resources values, \n",
    "data = data.dropna(subset=['gdp_per_capita','income_composition_of_resources'])\n"
   ]
  },
  {
   "cell_type": "code",
   "execution_count": 83,
   "id": "dfaab01d",
   "metadata": {},
   "outputs": [],
   "source": [
    "# Dropping rows with unreasonable gdp_per_capita values\n",
    "    # the number 108 is chosen because an outside source confirmed that the lowest\n",
    "    # gdp per capita during this time period is 108\n",
    "data = data.loc[data.gdp_per_capita >= 108]\n",
    "\n",
    "# Dropping rows with unreasonable under_five_deaths values\n",
    "    # the number 180 is chosen because an outside source confirmed that the highest value should be 225 for this period\n",
    "data = data.loc[data.under_five_deaths <= 225]"
   ]
  },
  {
   "cell_type": "code",
   "execution_count": 84,
   "id": "50050e39",
   "metadata": {},
   "outputs": [],
   "source": [
    "# reset the index numbers\n",
    "\n",
    "data = data.reset_index(drop=True)"
   ]
  },
  {
   "cell_type": "code",
   "execution_count": 85,
   "id": "acc163cd",
   "metadata": {},
   "outputs": [
    {
     "data": {
      "text/plain": [
       "country                             0\n",
       "year                                0\n",
       "status                              0\n",
       "life_expectancy                     2\n",
       "adult_mortality                     2\n",
       "measles                             0\n",
       "under_five_deaths                   0\n",
       "polio                              10\n",
       "diphtheria                         10\n",
       "hiv_aids                            0\n",
       "gdp_per_capita                      0\n",
       "thinness_1_19_years                24\n",
       "thinness_5_9_years                 24\n",
       "income_composition_of_resources     0\n",
       "schooling                           0\n",
       "dtype: int64"
      ]
     },
     "execution_count": 85,
     "metadata": {},
     "output_type": "execute_result"
    }
   ],
   "source": [
    "data.isnull().sum()"
   ]
  },
  {
   "cell_type": "code",
   "execution_count": 86,
   "id": "1171d4fd",
   "metadata": {},
   "outputs": [],
   "source": [
    "data = data.dropna()"
   ]
  },
  {
   "cell_type": "code",
   "execution_count": 87,
   "id": "708dc136",
   "metadata": {},
   "outputs": [
    {
     "data": {
      "text/plain": [
       "country                            0\n",
       "year                               0\n",
       "status                             0\n",
       "life_expectancy                    0\n",
       "adult_mortality                    0\n",
       "measles                            0\n",
       "under_five_deaths                  0\n",
       "polio                              0\n",
       "diphtheria                         0\n",
       "hiv_aids                           0\n",
       "gdp_per_capita                     0\n",
       "thinness_1_19_years                0\n",
       "thinness_5_9_years                 0\n",
       "income_composition_of_resources    0\n",
       "schooling                          0\n",
       "dtype: int64"
      ]
     },
     "execution_count": 87,
     "metadata": {},
     "output_type": "execute_result"
    }
   ],
   "source": [
    "data.isnull().sum()"
   ]
  },
  {
   "cell_type": "code",
   "execution_count": 88,
   "id": "1fd06033",
   "metadata": {},
   "outputs": [
    {
     "data": {
      "text/html": [
       "<div>\n",
       "<style scoped>\n",
       "    .dataframe tbody tr th:only-of-type {\n",
       "        vertical-align: middle;\n",
       "    }\n",
       "\n",
       "    .dataframe tbody tr th {\n",
       "        vertical-align: top;\n",
       "    }\n",
       "\n",
       "    .dataframe thead th {\n",
       "        text-align: right;\n",
       "    }\n",
       "</style>\n",
       "<table border=\"1\" class=\"dataframe\">\n",
       "  <thead>\n",
       "    <tr style=\"text-align: right;\">\n",
       "      <th></th>\n",
       "      <th>country</th>\n",
       "      <th>continent</th>\n",
       "    </tr>\n",
       "  </thead>\n",
       "  <tbody>\n",
       "    <tr>\n",
       "      <th>0</th>\n",
       "      <td>Afghanistan</td>\n",
       "      <td>Asia</td>\n",
       "    </tr>\n",
       "  </tbody>\n",
       "</table>\n",
       "</div>"
      ],
      "text/plain": [
       "       country continent\n",
       "0  Afghanistan      Asia"
      ]
     },
     "execution_count": 88,
     "metadata": {},
     "output_type": "execute_result"
    }
   ],
   "source": [
    "# add in continents to be a categorical variable\n",
    "continents_df = pd.read_csv('gdp_lifeExpectancy.csv')\n",
    "continents = continents_df[['country', 'continent']]\n",
    "continents.head(1)"
   ]
  },
  {
   "cell_type": "code",
   "execution_count": 89,
   "id": "b76a97ae",
   "metadata": {},
   "outputs": [],
   "source": [
    "data = pd.merge(data, continents, on='country')"
   ]
  },
  {
   "cell_type": "code",
   "execution_count": 90,
   "id": "caa1d3c2",
   "metadata": {},
   "outputs": [
    {
     "data": {
      "text/html": [
       "<div>\n",
       "<style scoped>\n",
       "    .dataframe tbody tr th:only-of-type {\n",
       "        vertical-align: middle;\n",
       "    }\n",
       "\n",
       "    .dataframe tbody tr th {\n",
       "        vertical-align: top;\n",
       "    }\n",
       "\n",
       "    .dataframe thead th {\n",
       "        text-align: right;\n",
       "    }\n",
       "</style>\n",
       "<table border=\"1\" class=\"dataframe\">\n",
       "  <thead>\n",
       "    <tr style=\"text-align: right;\">\n",
       "      <th></th>\n",
       "      <th>country</th>\n",
       "      <th>year</th>\n",
       "      <th>status</th>\n",
       "      <th>life_expectancy</th>\n",
       "      <th>adult_mortality</th>\n",
       "      <th>measles</th>\n",
       "      <th>under_five_deaths</th>\n",
       "      <th>polio</th>\n",
       "      <th>diphtheria</th>\n",
       "      <th>hiv_aids</th>\n",
       "      <th>gdp_per_capita</th>\n",
       "      <th>thinness_1_19_years</th>\n",
       "      <th>thinness_5_9_years</th>\n",
       "      <th>income_composition_of_resources</th>\n",
       "      <th>schooling</th>\n",
       "      <th>continent</th>\n",
       "    </tr>\n",
       "  </thead>\n",
       "  <tbody>\n",
       "    <tr>\n",
       "      <th>0</th>\n",
       "      <td>Afghanistan</td>\n",
       "      <td>2015</td>\n",
       "      <td>Developing</td>\n",
       "      <td>65.0</td>\n",
       "      <td>263.0</td>\n",
       "      <td>1154</td>\n",
       "      <td>83</td>\n",
       "      <td>6.0</td>\n",
       "      <td>65.0</td>\n",
       "      <td>0.1</td>\n",
       "      <td>584.25921</td>\n",
       "      <td>17.2</td>\n",
       "      <td>17.3</td>\n",
       "      <td>0.479</td>\n",
       "      <td>10.1</td>\n",
       "      <td>Asia</td>\n",
       "    </tr>\n",
       "  </tbody>\n",
       "</table>\n",
       "</div>"
      ],
      "text/plain": [
       "       country  year      status  life_expectancy  adult_mortality  measles  \\\n",
       "0  Afghanistan  2015  Developing             65.0            263.0     1154   \n",
       "\n",
       "   under_five_deaths  polio  diphtheria  hiv_aids  gdp_per_capita  \\\n",
       "0                 83    6.0        65.0       0.1       584.25921   \n",
       "\n",
       "   thinness_1_19_years  thinness_5_9_years  income_composition_of_resources  \\\n",
       "0                 17.2                17.3                            0.479   \n",
       "\n",
       "   schooling continent  \n",
       "0       10.1      Asia  "
      ]
     },
     "execution_count": 90,
     "metadata": {},
     "output_type": "execute_result"
    }
   ],
   "source": [
    "data.head(1)"
   ]
  },
  {
   "cell_type": "code",
   "execution_count": 91,
   "id": "e112021b",
   "metadata": {},
   "outputs": [],
   "source": [
    "# dividing data into 80% training, 20% test\n",
    "np.random.seed(2)\n",
    "train = data.sample(round(data.shape[0]*0.8)) # 80% training, 20% test\n",
    "test = data.drop(train.index)"
   ]
  },
  {
   "cell_type": "code",
   "execution_count": 92,
   "id": "c490aa11",
   "metadata": {},
   "outputs": [
    {
     "name": "stdout",
     "output_type": "stream",
     "text": [
      "                            OLS Regression Results                            \n",
      "==============================================================================\n",
      "Dep. Variable:        life_expectancy   R-squared:                       0.881\n",
      "Model:                            OLS   Adj. R-squared:                  0.881\n",
      "Method:                 Least Squares   F-statistic:                     9761.\n",
      "Date:                Sun, 26 Feb 2023   Prob (F-statistic):               0.00\n",
      "Time:                        11:12:57   Log-Likelihood:                -42659.\n",
      "No. Observations:               15773   AIC:                         8.534e+04\n",
      "Df Residuals:                   15760   BIC:                         8.544e+04\n",
      "Df Model:                          12                                         \n",
      "Covariance Type:            nonrobust                                         \n",
      "=============================================================================================================\n",
      "                                                coef    std err          t      P>|t|      [0.025      0.975]\n",
      "-------------------------------------------------------------------------------------------------------------\n",
      "Intercept                                    52.6713      0.398    132.337      0.000      51.891      53.451\n",
      "schooling                                     0.7463      0.031     23.758      0.000       0.685       0.808\n",
      "income_composition_of_resources              14.8781      0.539     27.582      0.000      13.821      15.935\n",
      "schooling:income_composition_of_resources     0.0155      0.041      0.382      0.703      -0.064       0.095\n",
      "polio                                         0.0144      0.003      5.479      0.000       0.009       0.020\n",
      "adult_mortality                              -0.0261      0.001    -27.437      0.000      -0.028      -0.024\n",
      "polio:adult_mortality                      4.048e-05    1.2e-05      3.362      0.001    1.69e-05    6.41e-05\n",
      "hiv_aids                                     -1.4894      0.039    -37.897      0.000      -1.566      -1.412\n",
      "polio:hiv_aids                                0.0089      0.000     18.383      0.000       0.008       0.010\n",
      "adult_mortality:hiv_aids                      0.0023   9.08e-05     25.734      0.000       0.002       0.003\n",
      "polio:adult_mortality:hiv_aids            -1.833e-05    1.1e-06    -16.723      0.000   -2.05e-05   -1.62e-05\n",
      "np.log(gdp_per_capita)                        0.2902      0.025     11.560      0.000       0.241       0.339\n",
      "thinness_1_19_years                          -0.1503      0.009    -16.504      0.000      -0.168      -0.132\n",
      "==============================================================================\n",
      "Omnibus:                     1301.653   Durbin-Watson:                   1.994\n",
      "Prob(Omnibus):                  0.000   Jarque-Bera (JB):             8251.824\n",
      "Skew:                          -0.012   Prob(JB):                         0.00\n",
      "Kurtosis:                       6.543   Cond. No.                     5.66e+06\n",
      "==============================================================================\n",
      "\n",
      "Notes:\n",
      "[1] Standard Errors assume that the covariance matrix of the errors is correctly specified.\n",
      "[2] The condition number is large, 5.66e+06. This might indicate that there are\n",
      "strong multicollinearity or other numerical problems.\n"
     ]
    }
   ],
   "source": [
    "# test model\n",
    "ols_object = smf.ols(formula = 'life_expectancy~schooling*income_composition_of_resources+polio*adult_mortality*hiv_aids+np.log(gdp_per_capita)+thinness_1_19_years', data=train)\n",
    "model = ols_object.fit()\n",
    "\n",
    "# returning numerical/statistical analysis\n",
    "print(model.summary())"
   ]
  },
  {
   "cell_type": "code",
   "execution_count": 54,
   "id": "56a7c1ea",
   "metadata": {},
   "outputs": [
    {
     "data": {
      "text/plain": [
       "3.7142921243744267"
      ]
     },
     "execution_count": 54,
     "metadata": {},
     "output_type": "execute_result"
    }
   ],
   "source": [
    "#Computing RMSE on test data\n",
    "pred_life = model.predict(test)\n",
    "np.sqrt(((test.life_expectancy - pred_life)**2).mean())"
   ]
  },
  {
   "cell_type": "code",
   "execution_count": 55,
   "id": "54b64136",
   "metadata": {},
   "outputs": [
    {
     "data": {
      "text/plain": [
       "Text(0, 0.5, 'Residuals')"
      ]
     },
     "execution_count": 55,
     "metadata": {},
     "output_type": "execute_result"
    },
    {
     "data": {
      "image/png": "[encoded data removed]",
      "text/plain": [
       "<Figure size 720x432 with 1 Axes>"
      ]
     },
     "metadata": {},
     "output_type": "display_data"
    }
   ],
   "source": [
    "#Plotting residuals vs fitted values\n",
    "sns.set(rc={'figure.figsize':(10,6)})\n",
    "sns.scatterplot(x = (model.fittedvalues), y=(model.resid),color = 'orange')\n",
    "sns.lineplot(x = [model.fittedvalues.min(),model.fittedvalues.max()],y = [0,0],color = 'blue')\n",
    "plt.xlabel('Fitted values')\n",
    "plt.ylabel('Residuals')"
   ]
  },
  {
   "cell_type": "code",
   "execution_count": 56,
   "id": "2199c5ee",
   "metadata": {},
   "outputs": [
    {
     "data": {
      "text/html": [
       "<div>\n",
       "<style scoped>\n",
       "    .dataframe tbody tr th:only-of-type {\n",
       "        vertical-align: middle;\n",
       "    }\n",
       "\n",
       "    .dataframe tbody tr th {\n",
       "        vertical-align: top;\n",
       "    }\n",
       "\n",
       "    .dataframe thead th {\n",
       "        text-align: right;\n",
       "    }\n",
       "</style>\n",
       "<table border=\"1\" class=\"dataframe\">\n",
       "  <thead>\n",
       "    <tr style=\"text-align: right;\">\n",
       "      <th></th>\n",
       "      <th>student_resid</th>\n",
       "      <th>unadj_p</th>\n",
       "      <th>bonf(p)</th>\n",
       "    </tr>\n",
       "  </thead>\n",
       "  <tbody>\n",
       "    <tr>\n",
       "      <th>16519</th>\n",
       "      <td>-0.245935</td>\n",
       "      <td>0.805736</td>\n",
       "      <td>1.0</td>\n",
       "    </tr>\n",
       "    <tr>\n",
       "      <th>9653</th>\n",
       "      <td>1.007154</td>\n",
       "      <td>0.313876</td>\n",
       "      <td>1.0</td>\n",
       "    </tr>\n",
       "    <tr>\n",
       "      <th>19940</th>\n",
       "      <td>-0.597639</td>\n",
       "      <td>0.550089</td>\n",
       "      <td>1.0</td>\n",
       "    </tr>\n",
       "    <tr>\n",
       "      <th>17439</th>\n",
       "      <td>0.057875</td>\n",
       "      <td>0.953849</td>\n",
       "      <td>1.0</td>\n",
       "    </tr>\n",
       "    <tr>\n",
       "      <th>18471</th>\n",
       "      <td>0.305197</td>\n",
       "      <td>0.760220</td>\n",
       "      <td>1.0</td>\n",
       "    </tr>\n",
       "    <tr>\n",
       "      <th>...</th>\n",
       "      <td>...</td>\n",
       "      <td>...</td>\n",
       "      <td>...</td>\n",
       "    </tr>\n",
       "    <tr>\n",
       "      <th>13847</th>\n",
       "      <td>0.998639</td>\n",
       "      <td>0.317985</td>\n",
       "      <td>1.0</td>\n",
       "    </tr>\n",
       "    <tr>\n",
       "      <th>6471</th>\n",
       "      <td>0.342860</td>\n",
       "      <td>0.731708</td>\n",
       "      <td>1.0</td>\n",
       "    </tr>\n",
       "    <tr>\n",
       "      <th>603</th>\n",
       "      <td>-2.536312</td>\n",
       "      <td>0.011212</td>\n",
       "      <td>1.0</td>\n",
       "    </tr>\n",
       "    <tr>\n",
       "      <th>11182</th>\n",
       "      <td>-0.385748</td>\n",
       "      <td>0.699689</td>\n",
       "      <td>1.0</td>\n",
       "    </tr>\n",
       "    <tr>\n",
       "      <th>2804</th>\n",
       "      <td>-2.133521</td>\n",
       "      <td>0.032897</td>\n",
       "      <td>1.0</td>\n",
       "    </tr>\n",
       "  </tbody>\n",
       "</table>\n",
       "<p>15784 rows × 3 columns</p>\n",
       "</div>"
      ],
      "text/plain": [
       "       student_resid   unadj_p  bonf(p)\n",
       "16519      -0.245935  0.805736      1.0\n",
       "9653        1.007154  0.313876      1.0\n",
       "19940      -0.597639  0.550089      1.0\n",
       "17439       0.057875  0.953849      1.0\n",
       "18471       0.305197  0.760220      1.0\n",
       "...              ...       ...      ...\n",
       "13847       0.998639  0.317985      1.0\n",
       "6471        0.342860  0.731708      1.0\n",
       "603        -2.536312  0.011212      1.0\n",
       "11182      -0.385748  0.699689      1.0\n",
       "2804       -2.133521  0.032897      1.0\n",
       "\n",
       "[15784 rows x 3 columns]"
      ]
     },
     "execution_count": 56,
     "metadata": {},
     "output_type": "execute_result"
    }
   ],
   "source": [
    "#Studentized residuals\n",
    "out = model.outlier_test()\n",
    "out"
   ]
  },
  {
   "cell_type": "code",
   "execution_count": 57,
   "id": "c75a0769",
   "metadata": {},
   "outputs": [
    {
     "data": {
      "text/plain": [
       "159"
      ]
     },
     "execution_count": 57,
     "metadata": {},
     "output_type": "execute_result"
    }
   ],
   "source": [
    "#Number of points with absolute studentized residuals greater than 3\n",
    "np.sum((np.abs(out.student_resid)>3))"
   ]
  },
  {
   "cell_type": "code",
   "execution_count": 58,
   "id": "ab65fc51",
   "metadata": {},
   "outputs": [],
   "source": [
    "#Computing the leverage statistic for each observation\n",
    "influence = model.get_influence()\n",
    "leverage = influence.hat_matrix_diag"
   ]
  },
  {
   "cell_type": "code",
   "execution_count": 59,
   "id": "4091e5fd",
   "metadata": {},
   "outputs": [
    {
     "data": {
      "image/png": "[encoded data removed]",
      "text/plain": [
       "<Figure size 1080x576 with 1 Axes>"
      ]
     },
     "metadata": {},
     "output_type": "display_data"
    }
   ],
   "source": [
    "#Visualizng leverage against studentized residuals\n",
    "sns.set(rc={'figure.figsize':(15,8)})\n",
    "sm.graphics.influence_plot(model);"
   ]
  },
  {
   "cell_type": "code",
   "execution_count": 60,
   "id": "84776cce",
   "metadata": {},
   "outputs": [
    {
     "data": {
      "text/plain": [
       "0.0008236188545362392"
      ]
     },
     "execution_count": 60,
     "metadata": {},
     "output_type": "execute_result"
    }
   ],
   "source": [
    "#Average leverage of points\n",
    "average_leverage = (model.df_model+1)/model.nobs\n",
    "average_leverage"
   ]
  },
  {
   "cell_type": "code",
   "execution_count": 61,
   "id": "90bd1978",
   "metadata": {},
   "outputs": [],
   "source": [
    "# Determine the cutoff for high leverage - general convention is 4x the average leverage\n",
    "cutoff = 4*((model.df_model+1)/model.nobs)"
   ]
  },
  {
   "cell_type": "code",
   "execution_count": 63,
   "id": "0738ad9b",
   "metadata": {},
   "outputs": [
    {
     "data": {
      "text/plain": [
       "503"
      ]
     },
     "execution_count": 63,
     "metadata": {},
     "output_type": "execute_result"
    }
   ],
   "source": [
    "#Number of high leverage points in the dataset\n",
    "np.sum(leverage>cutoff)"
   ]
  },
  {
   "cell_type": "code",
   "execution_count": 93,
   "id": "3f328911",
   "metadata": {},
   "outputs": [
    {
     "ename": "KeyError",
     "evalue": "'[695, 1443, 2700, 2817, 3873, 4044, 4543, 5320, 5957, 6002, 6050, 7978, 10546, 12209] not found in axis'",
     "output_type": "error",
     "traceback": [
      "\u001b[0;31m---------------------------------------------------------------------------\u001b[0m",
      "\u001b[0;31mKeyError\u001b[0m                                  Traceback (most recent call last)",
      "Input \u001b[0;32mIn [93]\u001b[0m, in \u001b[0;36m<cell line: 2>\u001b[0;34m()\u001b[0m\n\u001b[1;32m      1\u001b[0m \u001b[38;5;66;03m#Dropping influential points from data\u001b[39;00m\n\u001b[0;32m----> 2\u001b[0m train_filtered \u001b[38;5;241m=\u001b[39m \u001b[43mtrain\u001b[49m\u001b[38;5;241;43m.\u001b[39;49m\u001b[43mdrop\u001b[49m\u001b[43m(\u001b[49m\u001b[43mnp\u001b[49m\u001b[38;5;241;43m.\u001b[39;49m\u001b[43mintersect1d\u001b[49m\u001b[43m(\u001b[49m\u001b[43mnp\u001b[49m\u001b[38;5;241;43m.\u001b[39;49m\u001b[43mwhere\u001b[49m\u001b[43m(\u001b[49m\u001b[43mnp\u001b[49m\u001b[38;5;241;43m.\u001b[39;49m\u001b[43mabs\u001b[49m\u001b[43m(\u001b[49m\u001b[43mout\u001b[49m\u001b[38;5;241;43m.\u001b[39;49m\u001b[43mstudent_resid\u001b[49m\u001b[43m)\u001b[49m\u001b[38;5;241;43m>\u001b[39;49m\u001b[38;5;241;43m3\u001b[39;49m\u001b[43m)\u001b[49m\u001b[43m[\u001b[49m\u001b[38;5;241;43m0\u001b[39;49m\u001b[43m]\u001b[49m\u001b[43m,\u001b[49m\u001b[43m(\u001b[49m\u001b[43mnp\u001b[49m\u001b[38;5;241;43m.\u001b[39;49m\u001b[43mwhere\u001b[49m\u001b[43m(\u001b[49m\u001b[43mleverage\u001b[49m\u001b[38;5;241;43m>\u001b[39;49m\u001b[43mcutoff\u001b[49m\u001b[43m)\u001b[49m\u001b[43m[\u001b[49m\u001b[38;5;241;43m0\u001b[39;49m\u001b[43m]\u001b[49m\u001b[43m)\u001b[49m\u001b[43m)\u001b[49m\u001b[43m)\u001b[49m\n",
      "File \u001b[0;32m~/opt/anaconda3/lib/python3.9/site-packages/pandas/util/_decorators.py:311\u001b[0m, in \u001b[0;36mdeprecate_nonkeyword_arguments.<locals>.decorate.<locals>.wrapper\u001b[0;34m(*args, **kwargs)\u001b[0m\n\u001b[1;32m    305\u001b[0m \u001b[38;5;28;01mif\u001b[39;00m \u001b[38;5;28mlen\u001b[39m(args) \u001b[38;5;241m>\u001b[39m num_allow_args:\n\u001b[1;32m    306\u001b[0m     warnings\u001b[38;5;241m.\u001b[39mwarn(\n\u001b[1;32m    307\u001b[0m         msg\u001b[38;5;241m.\u001b[39mformat(arguments\u001b[38;5;241m=\u001b[39marguments),\n\u001b[1;32m    308\u001b[0m         \u001b[38;5;167;01mFutureWarning\u001b[39;00m,\n\u001b[1;32m    309\u001b[0m         stacklevel\u001b[38;5;241m=\u001b[39mstacklevel,\n\u001b[1;32m    310\u001b[0m     )\n\u001b[0;32m--> 311\u001b[0m \u001b[38;5;28;01mreturn\u001b[39;00m \u001b[43mfunc\u001b[49m\u001b[43m(\u001b[49m\u001b[38;5;241;43m*\u001b[39;49m\u001b[43margs\u001b[49m\u001b[43m,\u001b[49m\u001b[43m \u001b[49m\u001b[38;5;241;43m*\u001b[39;49m\u001b[38;5;241;43m*\u001b[39;49m\u001b[43mkwargs\u001b[49m\u001b[43m)\u001b[49m\n",
      "File \u001b[0;32m~/opt/anaconda3/lib/python3.9/site-packages/pandas/core/frame.py:4954\u001b[0m, in \u001b[0;36mDataFrame.drop\u001b[0;34m(self, labels, axis, index, columns, level, inplace, errors)\u001b[0m\n\u001b[1;32m   4806\u001b[0m \u001b[38;5;129m@deprecate_nonkeyword_arguments\u001b[39m(version\u001b[38;5;241m=\u001b[39m\u001b[38;5;28;01mNone\u001b[39;00m, allowed_args\u001b[38;5;241m=\u001b[39m[\u001b[38;5;124m\"\u001b[39m\u001b[38;5;124mself\u001b[39m\u001b[38;5;124m\"\u001b[39m, \u001b[38;5;124m\"\u001b[39m\u001b[38;5;124mlabels\u001b[39m\u001b[38;5;124m\"\u001b[39m])\n\u001b[1;32m   4807\u001b[0m \u001b[38;5;28;01mdef\u001b[39;00m \u001b[38;5;21mdrop\u001b[39m(\n\u001b[1;32m   4808\u001b[0m     \u001b[38;5;28mself\u001b[39m,\n\u001b[0;32m   (...)\u001b[0m\n\u001b[1;32m   4815\u001b[0m     errors: \u001b[38;5;28mstr\u001b[39m \u001b[38;5;241m=\u001b[39m \u001b[38;5;124m\"\u001b[39m\u001b[38;5;124mraise\u001b[39m\u001b[38;5;124m\"\u001b[39m,\n\u001b[1;32m   4816\u001b[0m ):\n\u001b[1;32m   4817\u001b[0m     \u001b[38;5;124;03m\"\"\"\u001b[39;00m\n\u001b[1;32m   4818\u001b[0m \u001b[38;5;124;03m    Drop specified labels from rows or columns.\u001b[39;00m\n\u001b[1;32m   4819\u001b[0m \n\u001b[0;32m   (...)\u001b[0m\n\u001b[1;32m   4952\u001b[0m \u001b[38;5;124;03m            weight  1.0     0.8\u001b[39;00m\n\u001b[1;32m   4953\u001b[0m \u001b[38;5;124;03m    \"\"\"\u001b[39;00m\n\u001b[0;32m-> 4954\u001b[0m     \u001b[38;5;28;01mreturn\u001b[39;00m \u001b[38;5;28;43msuper\u001b[39;49m\u001b[43m(\u001b[49m\u001b[43m)\u001b[49m\u001b[38;5;241;43m.\u001b[39;49m\u001b[43mdrop\u001b[49m\u001b[43m(\u001b[49m\n\u001b[1;32m   4955\u001b[0m \u001b[43m        \u001b[49m\u001b[43mlabels\u001b[49m\u001b[38;5;241;43m=\u001b[39;49m\u001b[43mlabels\u001b[49m\u001b[43m,\u001b[49m\n\u001b[1;32m   4956\u001b[0m \u001b[43m        \u001b[49m\u001b[43maxis\u001b[49m\u001b[38;5;241;43m=\u001b[39;49m\u001b[43maxis\u001b[49m\u001b[43m,\u001b[49m\n\u001b[1;32m   4957\u001b[0m \u001b[43m        \u001b[49m\u001b[43mindex\u001b[49m\u001b[38;5;241;43m=\u001b[39;49m\u001b[43mindex\u001b[49m\u001b[43m,\u001b[49m\n\u001b[1;32m   4958\u001b[0m \u001b[43m        \u001b[49m\u001b[43mcolumns\u001b[49m\u001b[38;5;241;43m=\u001b[39;49m\u001b[43mcolumns\u001b[49m\u001b[43m,\u001b[49m\n\u001b[1;32m   4959\u001b[0m \u001b[43m        \u001b[49m\u001b[43mlevel\u001b[49m\u001b[38;5;241;43m=\u001b[39;49m\u001b[43mlevel\u001b[49m\u001b[43m,\u001b[49m\n\u001b[1;32m   4960\u001b[0m \u001b[43m        \u001b[49m\u001b[43minplace\u001b[49m\u001b[38;5;241;43m=\u001b[39;49m\u001b[43minplace\u001b[49m\u001b[43m,\u001b[49m\n\u001b[1;32m   4961\u001b[0m \u001b[43m        \u001b[49m\u001b[43merrors\u001b[49m\u001b[38;5;241;43m=\u001b[39;49m\u001b[43merrors\u001b[49m\u001b[43m,\u001b[49m\n\u001b[1;32m   4962\u001b[0m \u001b[43m    \u001b[49m\u001b[43m)\u001b[49m\n",
      "File \u001b[0;32m~/opt/anaconda3/lib/python3.9/site-packages/pandas/core/generic.py:4267\u001b[0m, in \u001b[0;36mNDFrame.drop\u001b[0;34m(self, labels, axis, index, columns, level, inplace, errors)\u001b[0m\n\u001b[1;32m   4265\u001b[0m \u001b[38;5;28;01mfor\u001b[39;00m axis, labels \u001b[38;5;129;01min\u001b[39;00m axes\u001b[38;5;241m.\u001b[39mitems():\n\u001b[1;32m   4266\u001b[0m     \u001b[38;5;28;01mif\u001b[39;00m labels \u001b[38;5;129;01mis\u001b[39;00m \u001b[38;5;129;01mnot\u001b[39;00m \u001b[38;5;28;01mNone\u001b[39;00m:\n\u001b[0;32m-> 4267\u001b[0m         obj \u001b[38;5;241m=\u001b[39m \u001b[43mobj\u001b[49m\u001b[38;5;241;43m.\u001b[39;49m\u001b[43m_drop_axis\u001b[49m\u001b[43m(\u001b[49m\u001b[43mlabels\u001b[49m\u001b[43m,\u001b[49m\u001b[43m \u001b[49m\u001b[43maxis\u001b[49m\u001b[43m,\u001b[49m\u001b[43m \u001b[49m\u001b[43mlevel\u001b[49m\u001b[38;5;241;43m=\u001b[39;49m\u001b[43mlevel\u001b[49m\u001b[43m,\u001b[49m\u001b[43m \u001b[49m\u001b[43merrors\u001b[49m\u001b[38;5;241;43m=\u001b[39;49m\u001b[43merrors\u001b[49m\u001b[43m)\u001b[49m\n\u001b[1;32m   4269\u001b[0m \u001b[38;5;28;01mif\u001b[39;00m inplace:\n\u001b[1;32m   4270\u001b[0m     \u001b[38;5;28mself\u001b[39m\u001b[38;5;241m.\u001b[39m_update_inplace(obj)\n",
      "File \u001b[0;32m~/opt/anaconda3/lib/python3.9/site-packages/pandas/core/generic.py:4311\u001b[0m, in \u001b[0;36mNDFrame._drop_axis\u001b[0;34m(self, labels, axis, level, errors, consolidate, only_slice)\u001b[0m\n\u001b[1;32m   4309\u001b[0m         new_axis \u001b[38;5;241m=\u001b[39m axis\u001b[38;5;241m.\u001b[39mdrop(labels, level\u001b[38;5;241m=\u001b[39mlevel, errors\u001b[38;5;241m=\u001b[39merrors)\n\u001b[1;32m   4310\u001b[0m     \u001b[38;5;28;01melse\u001b[39;00m:\n\u001b[0;32m-> 4311\u001b[0m         new_axis \u001b[38;5;241m=\u001b[39m \u001b[43maxis\u001b[49m\u001b[38;5;241;43m.\u001b[39;49m\u001b[43mdrop\u001b[49m\u001b[43m(\u001b[49m\u001b[43mlabels\u001b[49m\u001b[43m,\u001b[49m\u001b[43m \u001b[49m\u001b[43merrors\u001b[49m\u001b[38;5;241;43m=\u001b[39;49m\u001b[43merrors\u001b[49m\u001b[43m)\u001b[49m\n\u001b[1;32m   4312\u001b[0m     indexer \u001b[38;5;241m=\u001b[39m axis\u001b[38;5;241m.\u001b[39mget_indexer(new_axis)\n\u001b[1;32m   4314\u001b[0m \u001b[38;5;66;03m# Case for non-unique axis\u001b[39;00m\n\u001b[1;32m   4315\u001b[0m \u001b[38;5;28;01melse\u001b[39;00m:\n",
      "File \u001b[0;32m~/opt/anaconda3/lib/python3.9/site-packages/pandas/core/indexes/base.py:6644\u001b[0m, in \u001b[0;36mIndex.drop\u001b[0;34m(self, labels, errors)\u001b[0m\n\u001b[1;32m   6642\u001b[0m \u001b[38;5;28;01mif\u001b[39;00m mask\u001b[38;5;241m.\u001b[39many():\n\u001b[1;32m   6643\u001b[0m     \u001b[38;5;28;01mif\u001b[39;00m errors \u001b[38;5;241m!=\u001b[39m \u001b[38;5;124m\"\u001b[39m\u001b[38;5;124mignore\u001b[39m\u001b[38;5;124m\"\u001b[39m:\n\u001b[0;32m-> 6644\u001b[0m         \u001b[38;5;28;01mraise\u001b[39;00m \u001b[38;5;167;01mKeyError\u001b[39;00m(\u001b[38;5;124mf\u001b[39m\u001b[38;5;124m\"\u001b[39m\u001b[38;5;132;01m{\u001b[39;00m\u001b[38;5;28mlist\u001b[39m(labels[mask])\u001b[38;5;132;01m}\u001b[39;00m\u001b[38;5;124m not found in axis\u001b[39m\u001b[38;5;124m\"\u001b[39m)\n\u001b[1;32m   6645\u001b[0m     indexer \u001b[38;5;241m=\u001b[39m indexer[\u001b[38;5;241m~\u001b[39mmask]\n\u001b[1;32m   6646\u001b[0m \u001b[38;5;28;01mreturn\u001b[39;00m \u001b[38;5;28mself\u001b[39m\u001b[38;5;241m.\u001b[39mdelete(indexer)\n",
      "\u001b[0;31mKeyError\u001b[0m: '[695, 1443, 2700, 2817, 3873, 4044, 4543, 5320, 5957, 6002, 6050, 7978, 10546, 12209] not found in axis'"
     ]
    }
   ],
   "source": [
    "#Dropping influential points from data\n",
    "train_filtered = train.drop(np.intersect1d(np.where(np.abs(out.student_resid)>3)[0],(np.where(leverage>cutoff)[0])))"
   ]
  },
  {
   "cell_type": "code",
   "execution_count": 65,
   "id": "22d106c0",
   "metadata": {},
   "outputs": [
    {
     "data": {
      "text/html": [
       "<div>\n",
       "<style scoped>\n",
       "    .dataframe tbody tr th:only-of-type {\n",
       "        vertical-align: middle;\n",
       "    }\n",
       "\n",
       "    .dataframe tbody tr th {\n",
       "        vertical-align: top;\n",
       "    }\n",
       "\n",
       "    .dataframe thead th {\n",
       "        text-align: right;\n",
       "    }\n",
       "</style>\n",
       "<table border=\"1\" class=\"dataframe\">\n",
       "  <thead>\n",
       "    <tr style=\"text-align: right;\">\n",
       "      <th></th>\n",
       "      <th>country</th>\n",
       "      <th>year</th>\n",
       "      <th>status</th>\n",
       "      <th>life_expectancy</th>\n",
       "      <th>adult_mortality</th>\n",
       "      <th>alcohol</th>\n",
       "      <th>hepatitis_b</th>\n",
       "      <th>measles</th>\n",
       "      <th>under_five_deaths</th>\n",
       "      <th>polio</th>\n",
       "      <th>total_expenditure</th>\n",
       "      <th>diphtheria</th>\n",
       "      <th>hiv_aids</th>\n",
       "      <th>gdp_per_capita</th>\n",
       "      <th>thinness_1_19_years</th>\n",
       "      <th>thinness_5_9_years</th>\n",
       "      <th>income_composition_of_resources</th>\n",
       "      <th>schooling</th>\n",
       "      <th>continent</th>\n",
       "    </tr>\n",
       "  </thead>\n",
       "  <tbody>\n",
       "    <tr>\n",
       "      <th>1022</th>\n",
       "      <td>Australia</td>\n",
       "      <td>2006</td>\n",
       "      <td>Developed</td>\n",
       "      <td>81.2</td>\n",
       "      <td>66.0</td>\n",
       "      <td>10.31</td>\n",
       "      <td>95.0</td>\n",
       "      <td>0</td>\n",
       "      <td>2</td>\n",
       "      <td>92.0</td>\n",
       "      <td>8.49</td>\n",
       "      <td>92.0</td>\n",
       "      <td>0.1</td>\n",
       "      <td>36118.28381</td>\n",
       "      <td>0.7</td>\n",
       "      <td>0.6</td>\n",
       "      <td>0.915</td>\n",
       "      <td>20.3</td>\n",
       "      <td>Oceania</td>\n",
       "    </tr>\n",
       "    <tr>\n",
       "      <th>1023</th>\n",
       "      <td>Australia</td>\n",
       "      <td>2006</td>\n",
       "      <td>Developed</td>\n",
       "      <td>81.2</td>\n",
       "      <td>66.0</td>\n",
       "      <td>10.31</td>\n",
       "      <td>95.0</td>\n",
       "      <td>0</td>\n",
       "      <td>2</td>\n",
       "      <td>92.0</td>\n",
       "      <td>8.49</td>\n",
       "      <td>92.0</td>\n",
       "      <td>0.1</td>\n",
       "      <td>36118.28381</td>\n",
       "      <td>0.7</td>\n",
       "      <td>0.6</td>\n",
       "      <td>0.915</td>\n",
       "      <td>20.3</td>\n",
       "      <td>Oceania</td>\n",
       "    </tr>\n",
       "    <tr>\n",
       "      <th>1024</th>\n",
       "      <td>Australia</td>\n",
       "      <td>2006</td>\n",
       "      <td>Developed</td>\n",
       "      <td>81.2</td>\n",
       "      <td>66.0</td>\n",
       "      <td>10.31</td>\n",
       "      <td>95.0</td>\n",
       "      <td>0</td>\n",
       "      <td>2</td>\n",
       "      <td>92.0</td>\n",
       "      <td>8.49</td>\n",
       "      <td>92.0</td>\n",
       "      <td>0.1</td>\n",
       "      <td>36118.28381</td>\n",
       "      <td>0.7</td>\n",
       "      <td>0.6</td>\n",
       "      <td>0.915</td>\n",
       "      <td>20.3</td>\n",
       "      <td>Oceania</td>\n",
       "    </tr>\n",
       "    <tr>\n",
       "      <th>1025</th>\n",
       "      <td>Australia</td>\n",
       "      <td>2006</td>\n",
       "      <td>Developed</td>\n",
       "      <td>81.2</td>\n",
       "      <td>66.0</td>\n",
       "      <td>10.31</td>\n",
       "      <td>95.0</td>\n",
       "      <td>0</td>\n",
       "      <td>2</td>\n",
       "      <td>92.0</td>\n",
       "      <td>8.49</td>\n",
       "      <td>92.0</td>\n",
       "      <td>0.1</td>\n",
       "      <td>36118.28381</td>\n",
       "      <td>0.7</td>\n",
       "      <td>0.6</td>\n",
       "      <td>0.915</td>\n",
       "      <td>20.3</td>\n",
       "      <td>Oceania</td>\n",
       "    </tr>\n",
       "  </tbody>\n",
       "</table>\n",
       "</div>"
      ],
      "text/plain": [
       "        country  year     status  life_expectancy  adult_mortality  alcohol  \\\n",
       "1022  Australia  2006  Developed             81.2             66.0    10.31   \n",
       "1023  Australia  2006  Developed             81.2             66.0    10.31   \n",
       "1024  Australia  2006  Developed             81.2             66.0    10.31   \n",
       "1025  Australia  2006  Developed             81.2             66.0    10.31   \n",
       "\n",
       "      hepatitis_b  measles  under_five_deaths  polio  total_expenditure  \\\n",
       "1022         95.0        0                  2   92.0               8.49   \n",
       "1023         95.0        0                  2   92.0               8.49   \n",
       "1024         95.0        0                  2   92.0               8.49   \n",
       "1025         95.0        0                  2   92.0               8.49   \n",
       "\n",
       "      diphtheria  hiv_aids  gdp_per_capita  thinness_1_19_years  \\\n",
       "1022        92.0       0.1     36118.28381                  0.7   \n",
       "1023        92.0       0.1     36118.28381                  0.7   \n",
       "1024        92.0       0.1     36118.28381                  0.7   \n",
       "1025        92.0       0.1     36118.28381                  0.7   \n",
       "\n",
       "      thinness_5_9_years  income_composition_of_resources  schooling continent  \n",
       "1022                 0.6                            0.915       20.3   Oceania  \n",
       "1023                 0.6                            0.915       20.3   Oceania  \n",
       "1024                 0.6                            0.915       20.3   Oceania  \n",
       "1025                 0.6                            0.915       20.3   Oceania  "
      ]
     },
     "execution_count": 65,
     "metadata": {},
     "output_type": "execute_result"
    }
   ],
   "source": [
    "data.iloc[1022:1026]"
   ]
  },
  {
   "cell_type": "markdown",
   "id": "61e6b709",
   "metadata": {},
   "source": [
    "## Variable Selection/VIF - Judd"
   ]
  },
  {
   "cell_type": "code",
   "execution_count": 94,
   "id": "a738ca27",
   "metadata": {},
   "outputs": [
    {
     "data": {
      "text/plain": [
       "Index(['country', 'year', 'status', 'life_expectancy', 'adult_mortality',\n",
       "       'measles', 'under_five_deaths', 'polio', 'diphtheria', 'hiv_aids',\n",
       "       'gdp_per_capita', 'thinness_1_19_years', 'thinness_5_9_years',\n",
       "       'income_composition_of_resources', 'schooling', 'continent'],\n",
       "      dtype='object')"
      ]
     },
     "execution_count": 94,
     "metadata": {},
     "output_type": "execute_result"
    }
   ],
   "source": [
    "data.columns"
   ]
  },
  {
   "cell_type": "code",
   "execution_count": 95,
   "id": "ee4b70a9",
   "metadata": {},
   "outputs": [
    {
     "data": {
      "text/plain": [
       "country                            0\n",
       "year                               0\n",
       "status                             0\n",
       "life_expectancy                    0\n",
       "adult_mortality                    0\n",
       "measles                            0\n",
       "under_five_deaths                  0\n",
       "polio                              0\n",
       "diphtheria                         0\n",
       "hiv_aids                           0\n",
       "gdp_per_capita                     0\n",
       "thinness_1_19_years                0\n",
       "thinness_5_9_years                 0\n",
       "income_composition_of_resources    0\n",
       "schooling                          0\n",
       "continent                          0\n",
       "dtype: int64"
      ]
     },
     "execution_count": 95,
     "metadata": {},
     "output_type": "execute_result"
    }
   ],
   "source": [
    "data.isnull().sum()"
   ]
  },
  {
   "cell_type": "code",
   "execution_count": 99,
   "id": "42d668a9",
   "metadata": {},
   "outputs": [
    {
     "name": "stdout",
     "output_type": "stream",
     "text": [
      "                         predictor        VIF\n",
      "0                            const  46.012654\n",
      "1                  adult_mortality   1.951469\n",
      "2                          measles   1.194178\n",
      "3                under_five_deaths   1.591654\n",
      "4                            polio   2.167635\n",
      "5                       diphtheria   2.176732\n",
      "6                         hiv_aids   1.555849\n",
      "7                   gdp_per_capita   1.423011\n",
      "8              thinness_1_19_years   1.547305\n",
      "9  income_composition_of_resources   2.429417\n"
     ]
    }
   ],
   "source": [
    "#Predictors VIF will be caluclated for:\n",
    "\n",
    "X = train[['adult_mortality','measles', 'under_five_deaths', 'polio', 'diphtheria', 'hiv_aids', \n",
    "           'gdp_per_capita', 'thinness_1_19_years', 'thinness_5_9_years',\n",
    "           'income_composition_of_resources', 'schooling']]\n",
    "\n",
    "from statsmodels.stats.outliers_influence import variance_inflation_factor\n",
    "from statsmodels.tools.tools import add_constant\n",
    "\n",
    "# add constant column\n",
    "X = add_constant(X)\n",
    "# create empty dataframe to input VIF values\n",
    "vif_data=pd.DataFrame()\n",
    "# create row for each predictor in X\n",
    "vif_data['predictor'] = X.columns\n",
    "\n",
    "# for loop to fill in VIF values \n",
    "for i in range(len(X.columns)):\n",
    "    vif_data.loc[i,'VIF'] = variance_inflation_factor(X.values,i)\n",
    "    \n",
    "print(vif_data)"
   ]
  },
  {
   "cell_type": "code",
   "execution_count": 103,
   "id": "6d9aa535",
   "metadata": {},
   "outputs": [
    {
     "data": {
      "text/plain": [
       "year                               0.154529\n",
       "life_expectancy                    1.000000\n",
       "adult_mortality                   -0.711417\n",
       "measles                           -0.173098\n",
       "under_five_deaths                 -0.517525\n",
       "polio                              0.470361\n",
       "diphtheria                         0.487223\n",
       "hiv_aids                          -0.588924\n",
       "gdp_per_capita                     0.486544\n",
       "thinness_1_19_years               -0.580836\n",
       "thinness_5_9_years                -0.581806\n",
       "income_composition_of_resources    0.830276\n",
       "schooling                          0.806966\n",
       "dtype: float64"
      ]
     },
     "execution_count": 103,
     "metadata": {},
     "output_type": "execute_result"
    }
   ],
   "source": [
    "data.corrwith(data.life_expectancy)"
   ]
  },
  {
   "cell_type": "markdown",
   "id": "439199a6",
   "metadata": {},
   "source": [
    "**It appears `thinness_1_19_years`, `thinness_5_9_years`, `income_composition_of_resources`, and `schooling` exhibit multicollinearity. Therefore, we will remove `thinness_5_9_years` and `schooling` since they are less correlated with `life_expectancy`.**"
   ]
  },
  {
   "cell_type": "code",
   "execution_count": 104,
   "id": "f5405911",
   "metadata": {},
   "outputs": [
    {
     "name": "stdout",
     "output_type": "stream",
     "text": [
      "                            OLS Regression Results                            \n",
      "==============================================================================\n",
      "Dep. Variable:        life_expectancy   R-squared:                       0.861\n",
      "Model:                            OLS   Adj. R-squared:                  0.861\n",
      "Method:                 Least Squares   F-statistic:                 1.087e+04\n",
      "Date:                Sun, 26 Feb 2023   Prob (F-statistic):               0.00\n",
      "Time:                        11:26:08   Log-Likelihood:                -43897.\n",
      "No. Observations:               15773   AIC:                         8.781e+04\n",
      "Df Residuals:                   15763   BIC:                         8.789e+04\n",
      "Df Model:                           9                                         \n",
      "Covariance Type:            nonrobust                                         \n",
      "===================================================================================================\n",
      "                                      coef    std err          t      P>|t|      [0.025      0.975]\n",
      "---------------------------------------------------------------------------------------------------\n",
      "Intercept                          53.6787      0.211    253.953      0.000      53.264      54.093\n",
      "adult_mortality                    -0.0157      0.000    -48.810      0.000      -0.016      -0.015\n",
      "measles                          1.852e-05   5.21e-06      3.556      0.000    8.31e-06    2.87e-05\n",
      "under_five_deaths                  -0.0289      0.001    -28.618      0.000      -0.031      -0.027\n",
      "polio                               0.0170      0.002      8.884      0.000       0.013       0.021\n",
      "diphtheria                          0.0353      0.002     18.193      0.000       0.031       0.039\n",
      "hiv_aids                           -0.4300      0.006    -67.620      0.000      -0.442      -0.418\n",
      "gdp_per_capita                   3.578e-05   2.51e-06     14.231      0.000    3.09e-05    4.07e-05\n",
      "thinness_1_19_years                -0.1925      0.010    -20.050      0.000      -0.211      -0.174\n",
      "income_composition_of_resources    25.2267      0.247    102.194      0.000      24.743      25.711\n",
      "==============================================================================\n",
      "Omnibus:                     2110.412   Durbin-Watson:                   1.987\n",
      "Prob(Omnibus):                  0.000   Jarque-Bera (JB):            14258.292\n",
      "Skew:                           0.455   Prob(JB):                         0.00\n",
      "Kurtosis:                       7.568   Cond. No.                     1.63e+05\n",
      "==============================================================================\n",
      "\n",
      "Notes:\n",
      "[1] Standard Errors assume that the covariance matrix of the errors is correctly specified.\n",
      "[2] The condition number is large, 1.63e+05. This might indicate that there are\n",
      "strong multicollinearity or other numerical problems.\n"
     ]
    }
   ],
   "source": [
    "# run test model without interactions and \n",
    "ols_object = smf.ols(formula = 'life_expectancy~adult_mortality+measles+under_five_deaths+polio+diphtheria+hiv_aids+gdp_per_capita+thinness_1_19_years+income_composition_of_resources', data=train)\n",
    "model = ols_object.fit()\n",
    "\n",
    "# returning numerical/statistical analysis\n",
    "print(model.summary())"
   ]
  },
  {
   "cell_type": "code",
   "execution_count": 142,
   "id": "a48e1ca4",
   "metadata": {},
   "outputs": [],
   "source": [
    "#Creating a dataframe with all the predictors\n",
    "X = train[['adult_mortality', 'measles', 'under_five_deaths', 'polio', 'diphtheria', 'hiv_aids', 'gdp_per_capita', 'thinness_1_19_years', 'income_composition_of_resources']]\n",
    "#Since 'X' will change when we include interactions, we need a backup containing all individual predictors\n",
    "X_backup = train[['adult_mortality', 'measles', 'under_five_deaths', 'polio', 'diphtheria', 'hiv_aids', 'gdp_per_capita', 'thinness_1_19_years', 'income_composition_of_resources']]"
   ]
  },
  {
   "cell_type": "code",
   "execution_count": 146,
   "id": "cbfec99f",
   "metadata": {},
   "outputs": [],
   "source": [
    "#Function to develop a model based on all predictors in predictor_subset\n",
    "def processSubset(predictor_subset):\n",
    "    # Fit model on feature_set and calculate R-squared\n",
    "    model = sm.ols('life_expectancy~' + '+'.join(predictor_subset),data = train).fit()\n",
    "    Rsquared = model.rsquared\n",
    "    return {\"model\":model, \"Rsquared\":Rsquared}"
   ]
  },
  {
   "cell_type": "code",
   "execution_count": 147,
   "id": "6f5f849e",
   "metadata": {},
   "outputs": [],
   "source": [
    "#Function to find the best predictor out of p-k predictors and add it to the model containing the k predictors\n",
    "def forward(predictors):\n",
    "\n",
    "    # Pull out predictors we still need to process\n",
    "    remaining_predictors = [p for p in X.columns if p not in predictors]\n",
    "    \n",
    "    tic = time.time()\n",
    "    \n",
    "    results = []\n",
    "    \n",
    "    for p in remaining_predictors:\n",
    "        results.append(processSubset(predictors+[p]))\n",
    "    \n",
    "    # Wrap everything up in a nice dataframe\n",
    "    models = pd.DataFrame(results)\n",
    "    \n",
    "    # Choose the model with the highest RSS\n",
    "    best_model = models.loc[models['Rsquared'].argmax()]\n",
    "    \n",
    "    toc = time.time()\n",
    "    print(\"Processed \", models.shape[0], \"models on\", len(predictors)+1, \"predictors in\", (toc-tic), \"seconds.\")\n",
    "    \n",
    "    # Return the best model, along with some other useful information about the model\n",
    "    return best_model"
   ]
  },
  {
   "cell_type": "code",
   "execution_count": 148,
   "id": "34762963",
   "metadata": {},
   "outputs": [],
   "source": [
    "def forward_selection():\n",
    "    models_best = pd.DataFrame(columns=[\"Rsquared\", \"model\"])\n",
    "\n",
    "    tic = time.time()\n",
    "    predictors = []\n",
    "\n",
    "    for i in range(1,len(X.columns)+1):    \n",
    "        models_best.loc[i] = forward(predictors)\n",
    "        predictors = list(models_best.loc[i][\"model\"].params.index[1:])\n",
    "\n",
    "    toc = time.time()\n",
    "    print(\"Total elapsed time:\", (toc-tic), \"seconds.\")\n",
    "    return models_best"
   ]
  },
  {
   "cell_type": "code",
   "execution_count": 149,
   "id": "a97ebe47",
   "metadata": {},
   "outputs": [
    {
     "name": "stdout",
     "output_type": "stream",
     "text": [
      "Processed  9 models on 1 predictors in 0.1439380645751953 seconds.\n",
      "Processed  8 models on 2 predictors in 0.0765388011932373 seconds.\n",
      "Processed  7 models on 3 predictors in 0.07207417488098145 seconds.\n",
      "Processed  6 models on 4 predictors in 0.0925130844116211 seconds.\n",
      "Processed  5 models on 5 predictors in 0.09268903732299805 seconds.\n",
      "Processed  4 models on 6 predictors in 0.09149694442749023 seconds.\n",
      "Processed  3 models on 7 predictors in 0.06944394111633301 seconds.\n",
      "Processed  2 models on 8 predictors in 0.041433095932006836 seconds.\n",
      "Processed  1 models on 9 predictors in 0.02368903160095215 seconds.\n",
      "Total elapsed time: 0.7462823390960693 seconds.\n"
     ]
    }
   ],
   "source": [
    "models_best = forward_selection()"
   ]
  },
  {
   "cell_type": "code",
   "execution_count": 150,
   "id": "16d69b45",
   "metadata": {},
   "outputs": [
    {
     "data": {
      "image/png": "[encoded data removed]",
      "text/plain": [
       "<Figure size 1440x720 with 4 Axes>"
      ]
     },
     "metadata": {},
     "output_type": "display_data"
    }
   ],
   "source": [
    "def best_sub_plots():\n",
    "    plt.figure(figsize=(20,10))\n",
    "    plt.rcParams.update({'font.size': 18, 'lines.markersize': 10})\n",
    "\n",
    "    # Set up a 2x2 grid so we can look at 4 plots at once\n",
    "    plt.subplot(2, 2, 1)\n",
    "\n",
    "    # We will now plot a red dot to indicate the model with the largest adjusted R^2 statistic.\n",
    "    # The argmax() function can be used to identify the location of the maximum point of a vector\n",
    "    plt.plot(models_best[\"Rsquared\"])\n",
    "    plt.xlabel('# Predictors')\n",
    "    plt.ylabel('Rsquared')\n",
    "\n",
    "    # We will now plot a red dot to indicate the model with the largest adjusted R^2 statistic.\n",
    "    # The argmax() function can be used to identify the location of the maximum point of a vector\n",
    "\n",
    "    rsquared_adj = models_best.apply(lambda row: row[1].rsquared_adj, axis=1)\n",
    "\n",
    "    plt.subplot(2, 2, 2)\n",
    "    plt.plot(rsquared_adj)\n",
    "    plt.plot(1+rsquared_adj.argmax(), rsquared_adj.max(), \"or\")\n",
    "    plt.xlabel('# Predictors')\n",
    "    plt.ylabel('adjusted rsquared')\n",
    "\n",
    "    # We'll do the same for AIC and BIC, this time looking for the models with the SMALLEST statistic\n",
    "    aic = models_best.apply(lambda row: row[1].aic, axis=1)\n",
    "\n",
    "    plt.subplot(2, 2, 3)\n",
    "    plt.plot(aic)\n",
    "    plt.plot(1+aic.argmin(), aic.min(), \"or\")\n",
    "    plt.xlabel('# Predictors')\n",
    "    plt.ylabel('AIC')\n",
    "\n",
    "    bic = models_best.apply(lambda row: row[1].bic, axis=1)\n",
    "\n",
    "    plt.subplot(2, 2, 4)\n",
    "    plt.plot(bic)\n",
    "    plt.plot(1+bic.argmin(), bic.min(), \"or\")\n",
    "    plt.xlabel('# Predictors')\n",
    "    plt.ylabel('BIC')\n",
    "best_sub_plots()"
   ]
  },
  {
   "cell_type": "code",
   "execution_count": 152,
   "id": "50276d04",
   "metadata": {},
   "outputs": [
    {
     "data": {
      "text/html": [
       "<table class=\"simpletable\">\n",
       "<caption>OLS Regression Results</caption>\n",
       "<tr>\n",
       "  <th>Dep. Variable:</th>     <td>life_expectancy</td> <th>  R-squared:         </th> <td>   0.861</td> \n",
       "</tr>\n",
       "<tr>\n",
       "  <th>Model:</th>                   <td>OLS</td>       <th>  Adj. R-squared:    </th> <td>   0.861</td> \n",
       "</tr>\n",
       "<tr>\n",
       "  <th>Method:</th>             <td>Least Squares</td>  <th>  F-statistic:       </th> <td>1.087e+04</td>\n",
       "</tr>\n",
       "<tr>\n",
       "  <th>Date:</th>             <td>Sun, 26 Feb 2023</td> <th>  Prob (F-statistic):</th>  <td>  0.00</td>  \n",
       "</tr>\n",
       "<tr>\n",
       "  <th>Time:</th>                 <td>11:41:39</td>     <th>  Log-Likelihood:    </th> <td> -43897.</td> \n",
       "</tr>\n",
       "<tr>\n",
       "  <th>No. Observations:</th>      <td> 15773</td>      <th>  AIC:               </th> <td>8.781e+04</td>\n",
       "</tr>\n",
       "<tr>\n",
       "  <th>Df Residuals:</th>          <td> 15763</td>      <th>  BIC:               </th> <td>8.789e+04</td>\n",
       "</tr>\n",
       "<tr>\n",
       "  <th>Df Model:</th>              <td>     9</td>      <th>                     </th>     <td> </td>    \n",
       "</tr>\n",
       "<tr>\n",
       "  <th>Covariance Type:</th>      <td>nonrobust</td>    <th>                     </th>     <td> </td>    \n",
       "</tr>\n",
       "</table>\n",
       "<table class=\"simpletable\">\n",
       "<tr>\n",
       "                 <td></td>                    <th>coef</th>     <th>std err</th>      <th>t</th>      <th>P>|t|</th>  <th>[0.025</th>    <th>0.975]</th>  \n",
       "</tr>\n",
       "<tr>\n",
       "  <th>Intercept</th>                       <td>   53.6787</td> <td>    0.211</td> <td>  253.953</td> <td> 0.000</td> <td>   53.264</td> <td>   54.093</td>\n",
       "</tr>\n",
       "<tr>\n",
       "  <th>income_composition_of_resources</th> <td>   25.2267</td> <td>    0.247</td> <td>  102.194</td> <td> 0.000</td> <td>   24.743</td> <td>   25.711</td>\n",
       "</tr>\n",
       "<tr>\n",
       "  <th>hiv_aids</th>                        <td>   -0.4300</td> <td>    0.006</td> <td>  -67.620</td> <td> 0.000</td> <td>   -0.442</td> <td>   -0.418</td>\n",
       "</tr>\n",
       "<tr>\n",
       "  <th>adult_mortality</th>                 <td>   -0.0157</td> <td>    0.000</td> <td>  -48.810</td> <td> 0.000</td> <td>   -0.016</td> <td>   -0.015</td>\n",
       "</tr>\n",
       "<tr>\n",
       "  <th>under_five_deaths</th>               <td>   -0.0289</td> <td>    0.001</td> <td>  -28.618</td> <td> 0.000</td> <td>   -0.031</td> <td>   -0.027</td>\n",
       "</tr>\n",
       "<tr>\n",
       "  <th>diphtheria</th>                      <td>    0.0353</td> <td>    0.002</td> <td>   18.193</td> <td> 0.000</td> <td>    0.031</td> <td>    0.039</td>\n",
       "</tr>\n",
       "<tr>\n",
       "  <th>thinness_1_19_years</th>             <td>   -0.1925</td> <td>    0.010</td> <td>  -20.050</td> <td> 0.000</td> <td>   -0.211</td> <td>   -0.174</td>\n",
       "</tr>\n",
       "<tr>\n",
       "  <th>gdp_per_capita</th>                  <td> 3.578e-05</td> <td> 2.51e-06</td> <td>   14.231</td> <td> 0.000</td> <td> 3.09e-05</td> <td> 4.07e-05</td>\n",
       "</tr>\n",
       "<tr>\n",
       "  <th>polio</th>                           <td>    0.0170</td> <td>    0.002</td> <td>    8.884</td> <td> 0.000</td> <td>    0.013</td> <td>    0.021</td>\n",
       "</tr>\n",
       "<tr>\n",
       "  <th>measles</th>                         <td> 1.852e-05</td> <td> 5.21e-06</td> <td>    3.556</td> <td> 0.000</td> <td> 8.31e-06</td> <td> 2.87e-05</td>\n",
       "</tr>\n",
       "</table>\n",
       "<table class=\"simpletable\">\n",
       "<tr>\n",
       "  <th>Omnibus:</th>       <td>2110.412</td> <th>  Durbin-Watson:     </th> <td>   1.987</td> \n",
       "</tr>\n",
       "<tr>\n",
       "  <th>Prob(Omnibus):</th>  <td> 0.000</td>  <th>  Jarque-Bera (JB):  </th> <td>14258.292</td>\n",
       "</tr>\n",
       "<tr>\n",
       "  <th>Skew:</th>           <td> 0.455</td>  <th>  Prob(JB):          </th> <td>    0.00</td> \n",
       "</tr>\n",
       "<tr>\n",
       "  <th>Kurtosis:</th>       <td> 7.568</td>  <th>  Cond. No.          </th> <td>1.63e+05</td> \n",
       "</tr>\n",
       "</table><br/><br/>Notes:<br/>[1] Standard Errors assume that the covariance matrix of the errors is correctly specified.<br/>[2] The condition number is large, 1.63e+05. This might indicate that there are<br/>strong multicollinearity or other numerical problems."
      ],
      "text/plain": [
       "<class 'statsmodels.iolib.summary.Summary'>\n",
       "\"\"\"\n",
       "                            OLS Regression Results                            \n",
       "==============================================================================\n",
       "Dep. Variable:        life_expectancy   R-squared:                       0.861\n",
       "Model:                            OLS   Adj. R-squared:                  0.861\n",
       "Method:                 Least Squares   F-statistic:                 1.087e+04\n",
       "Date:                Sun, 26 Feb 2023   Prob (F-statistic):               0.00\n",
       "Time:                        11:41:39   Log-Likelihood:                -43897.\n",
       "No. Observations:               15773   AIC:                         8.781e+04\n",
       "Df Residuals:                   15763   BIC:                         8.789e+04\n",
       "Df Model:                           9                                         \n",
       "Covariance Type:            nonrobust                                         \n",
       "===================================================================================================\n",
       "                                      coef    std err          t      P>|t|      [0.025      0.975]\n",
       "---------------------------------------------------------------------------------------------------\n",
       "Intercept                          53.6787      0.211    253.953      0.000      53.264      54.093\n",
       "income_composition_of_resources    25.2267      0.247    102.194      0.000      24.743      25.711\n",
       "hiv_aids                           -0.4300      0.006    -67.620      0.000      -0.442      -0.418\n",
       "adult_mortality                    -0.0157      0.000    -48.810      0.000      -0.016      -0.015\n",
       "under_five_deaths                  -0.0289      0.001    -28.618      0.000      -0.031      -0.027\n",
       "diphtheria                          0.0353      0.002     18.193      0.000       0.031       0.039\n",
       "thinness_1_19_years                -0.1925      0.010    -20.050      0.000      -0.211      -0.174\n",
       "gdp_per_capita                   3.578e-05   2.51e-06     14.231      0.000    3.09e-05    4.07e-05\n",
       "polio                               0.0170      0.002      8.884      0.000       0.013       0.021\n",
       "measles                          1.852e-05   5.21e-06      3.556      0.000    8.31e-06    2.87e-05\n",
       "==============================================================================\n",
       "Omnibus:                     2110.412   Durbin-Watson:                   1.987\n",
       "Prob(Omnibus):                  0.000   Jarque-Bera (JB):            14258.292\n",
       "Skew:                           0.455   Prob(JB):                         0.00\n",
       "Kurtosis:                       7.568   Cond. No.                     1.63e+05\n",
       "==============================================================================\n",
       "\n",
       "Notes:\n",
       "[1] Standard Errors assume that the covariance matrix of the errors is correctly specified.\n",
       "[2] The condition number is large, 1.63e+05. This might indicate that there are\n",
       "strong multicollinearity or other numerical problems.\n",
       "\"\"\""
      ]
     },
     "execution_count": 152,
     "metadata": {},
     "output_type": "execute_result"
    }
   ],
   "source": [
    "best_fwd_reg_model = models_best['model'][9]\n",
    "best_fwd_reg_model.summary()"
   ]
  },
  {
   "cell_type": "markdown",
   "id": "818a464f",
   "metadata": {},
   "source": [
    "## Final Regression Analysis - Alissa"
   ]
  },
  {
   "cell_type": "code",
   "execution_count": null,
   "id": "3386368d",
   "metadata": {},
   "outputs": [],
   "source": []
  }
 ],
 "metadata": {
  "kernelspec": {
   "display_name": "Python 3 (ipykernel)",
   "language": "python",
   "name": "python3"
  },
  "language_info": {
   "codemirror_mode": {
    "name": "ipython",
    "version": 3
   },
   "file_extension": ".py",
   "mimetype": "text/x-python",
   "name": "python",
   "nbconvert_exporter": "python",
   "pygments_lexer": "ipython3",
   "version": "3.9.12"
  }
 },
 "nbformat": 4,
 "nbformat_minor": 5
}
