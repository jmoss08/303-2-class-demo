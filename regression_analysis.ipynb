{
 "cells": [
  {
   "cell_type": "raw",
   "id": "978defb2",
   "metadata": {},
   "source": [
    "# ---\n",
    "title: \"Regression Analysis\"\n",
    "format: \n",
    "  html:\n",
    "    toc: true\n",
    "    toc-title: Contents\n",
    "    toc-depth: 4\n",
    "    code-fold: show\n",
    "    self-contained: true\n",
    "    html-math-method: mathml \n",
    "jupyter: python3\n",
    "---"
   ]
  },
  {
   "cell_type": "markdown",
   "id": "9e685b2e",
   "metadata": {},
   "source": [
    "### Load Packages"
   ]
  },
  {
   "cell_type": "code",
   "execution_count": 2,
   "id": "8f77b2c9",
   "metadata": {},
   "outputs": [],
   "source": [
    "# import packages\n",
    "import pandas as pd\n",
    "import numpy as np\n",
    "import statsmodels.formula.api as smf\n",
    "import seaborn as sns\n",
    "import matplotlib.pyplot as plt"
   ]
  },
  {
   "cell_type": "markdown",
   "id": "08cee9ce",
   "metadata": {},
   "source": [
    "## Load dataset and clean data - Adam"
   ]
  },
  {
   "cell_type": "code",
   "execution_count": 3,
   "id": "cdae4d9a",
   "metadata": {},
   "outputs": [
    {
     "name": "stderr",
     "output_type": "stream",
     "text": [
      "/var/folders/0x/61vcmsg94cs94n1kc433lq8w0000gn/T/ipykernel_76720/1437335773.py:3: FutureWarning: The default value of regex will change from True to False in a future version. In addition, single character regular expressions will *not* be treated as literal strings when regex=True.\n",
      "  data.columns = data.columns.str.strip().str.lower().str.replace(' ', '_').str.replace('(', '').str.replace(')', '')\n",
      "/var/folders/0x/61vcmsg94cs94n1kc433lq8w0000gn/T/ipykernel_76720/1437335773.py:3: FutureWarning: The default value of regex will change from True to False in a future version. In addition, single character regular expressions will *not* be treated as literal strings when regex=True.\n",
      "  data.columns = data.columns.str.strip().str.lower().str.replace(' ', '_').str.replace('(', '').str.replace(')', '')\n"
     ]
    }
   ],
   "source": [
    "data = pd.read_csv('Life Expectancy Data.csv')\n",
    "\n",
    "data.columns = data.columns.str.strip().str.lower().str.replace(' ', '_').str.replace('(', '').str.replace(')', '')\n",
    "\n",
    "gdp_per_capita = data.gdp/data.population\n",
    "data['gdp_per_capita'] = gdp_per_capita\n",
    "\n",
    "np.random.seed(2)\n",
    "train = data.sample(round(data.shape[0]*0.8)) # 80% training, 20% test\n",
    "test = data.drop(train.index)"
   ]
  },
  {
   "cell_type": "code",
   "execution_count": 5,
   "id": "89e26af5",
   "metadata": {},
   "outputs": [
    {
     "data": {
      "text/html": [
       "<div>\n",
       "<style scoped>\n",
       "    .dataframe tbody tr th:only-of-type {\n",
       "        vertical-align: middle;\n",
       "    }\n",
       "\n",
       "    .dataframe tbody tr th {\n",
       "        vertical-align: top;\n",
       "    }\n",
       "\n",
       "    .dataframe thead th {\n",
       "        text-align: right;\n",
       "    }\n",
       "</style>\n",
       "<table border=\"1\" class=\"dataframe\">\n",
       "  <thead>\n",
       "    <tr style=\"text-align: right;\">\n",
       "      <th></th>\n",
       "      <th>country</th>\n",
       "      <th>year</th>\n",
       "      <th>status</th>\n",
       "      <th>life_expectancy</th>\n",
       "      <th>adult_mortality</th>\n",
       "      <th>infant_deaths</th>\n",
       "      <th>alcohol</th>\n",
       "      <th>percentage_expenditure</th>\n",
       "      <th>hepatitis_b</th>\n",
       "      <th>measles</th>\n",
       "      <th>...</th>\n",
       "      <th>total_expenditure</th>\n",
       "      <th>diphtheria</th>\n",
       "      <th>hiv/aids</th>\n",
       "      <th>gdp</th>\n",
       "      <th>population</th>\n",
       "      <th>thinness__1-19_years</th>\n",
       "      <th>thinness_5-9_years</th>\n",
       "      <th>income_composition_of_resources</th>\n",
       "      <th>schooling</th>\n",
       "      <th>gdp_per_capita</th>\n",
       "    </tr>\n",
       "  </thead>\n",
       "  <tbody>\n",
       "    <tr>\n",
       "      <th>1576</th>\n",
       "      <td>Malawi</td>\n",
       "      <td>2009</td>\n",
       "      <td>Developing</td>\n",
       "      <td>51.5</td>\n",
       "      <td>491.0</td>\n",
       "      <td>36</td>\n",
       "      <td>1.16</td>\n",
       "      <td>7.915071</td>\n",
       "      <td>93.0</td>\n",
       "      <td>21</td>\n",
       "      <td>...</td>\n",
       "      <td>1.18</td>\n",
       "      <td>93.0</td>\n",
       "      <td>14.9</td>\n",
       "      <td>42.737966</td>\n",
       "      <td>1471462.0</td>\n",
       "      <td>6.9</td>\n",
       "      <td>6.8</td>\n",
       "      <td>0.415</td>\n",
       "      <td>9.9</td>\n",
       "      <td>0.000029</td>\n",
       "    </tr>\n",
       "  </tbody>\n",
       "</table>\n",
       "<p>1 rows × 23 columns</p>\n",
       "</div>"
      ],
      "text/plain": [
       "     country  year      status  life_expectancy  adult_mortality  \\\n",
       "1576  Malawi  2009  Developing             51.5            491.0   \n",
       "\n",
       "      infant_deaths  alcohol  percentage_expenditure  hepatitis_b  measles  \\\n",
       "1576             36     1.16                7.915071         93.0       21   \n",
       "\n",
       "      ...  total_expenditure  diphtheria  hiv/aids        gdp  population  \\\n",
       "1576  ...               1.18        93.0      14.9  42.737966   1471462.0   \n",
       "\n",
       "      thinness__1-19_years  thinness_5-9_years  \\\n",
       "1576                   6.9                 6.8   \n",
       "\n",
       "      income_composition_of_resources  schooling  gdp_per_capita  \n",
       "1576                            0.415        9.9        0.000029  \n",
       "\n",
       "[1 rows x 23 columns]"
      ]
     },
     "execution_count": 5,
     "metadata": {},
     "output_type": "execute_result"
    }
   ],
   "source": [
    "train.head(1)"
   ]
  },
  {
   "cell_type": "markdown",
   "id": "61e6b709",
   "metadata": {},
   "source": [
    "## Variable Selection/VIF - Judd"
   ]
  },
  {
   "cell_type": "markdown",
   "id": "818a464f",
   "metadata": {},
   "source": [
    "## Final Regression Analysis - Alissa"
   ]
  },
  {
   "cell_type": "code",
   "execution_count": null,
   "id": "3386368d",
   "metadata": {},
   "outputs": [],
   "source": []
  }
 ],
 "metadata": {
  "kernelspec": {
   "display_name": "Python 3 (ipykernel)",
   "language": "python",
   "name": "python3"
  },
  "language_info": {
   "codemirror_mode": {
    "name": "ipython",
    "version": 3
   },
   "file_extension": ".py",
   "mimetype": "text/x-python",
   "name": "python",
   "nbconvert_exporter": "python",
   "pygments_lexer": "ipython3",
   "version": "3.9.12"
  }
 },
 "nbformat": 4,
 "nbformat_minor": 5
}
