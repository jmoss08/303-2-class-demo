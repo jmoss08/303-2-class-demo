{
 "cells": [
  {
   "cell_type": "code",
   "execution_count": 2,
   "id": "97115418",
   "metadata": {},
   "outputs": [],
   "source": [
    "import pandas as pd"
   ]
  },
  {
   "cell_type": "code",
   "execution_count": 3,
   "id": "9d6c3905",
   "metadata": {},
   "outputs": [
    {
     "data": {
      "text/plain": [
       "Index(['color', 'director_name', 'num_critic_for_reviews', 'duration',\n",
       "       'director_facebook_likes', 'actor_3_facebook_likes',\n",
       "       'actor_1_facebook_likes', 'gross', 'genres', 'movie_title',\n",
       "       'num_voted_users', 'cast_total_facebook_likes', 'num_user_for_reviews',\n",
       "       'language', 'country', 'content_rating', 'budget', 'title_year',\n",
       "       'actor_2_facebook_likes', 'imdb_score', 'movie_facebook_likes'],\n",
       "      dtype='object')"
      ]
     },
     "execution_count": 3,
     "metadata": {},
     "output_type": "execute_result"
    }
   ],
   "source": [
    "movies_data = pd.read_csv('movie_metadata.csv')\n",
    "# drop unnecessary columns\n",
    "movies_data = movies_data.drop(['actor_3_name', 'actor_2_name', 'actor_1_name', 'facenumber_in_poster', 'plot_keywords',\n",
    "                              'movie_imdb_link', 'aspect_ratio'], axis=1)\n",
    "movies_data.columns"
   ]
  }
 ],
 "metadata": {
  "kernelspec": {
   "display_name": "Python 3 (ipykernel)",
   "language": "python",
   "name": "python3"
  },
  "language_info": {
   "codemirror_mode": {
    "name": "ipython",
    "version": 3
   },
   "file_extension": ".py",
   "mimetype": "text/x-python",
   "name": "python",
   "nbconvert_exporter": "python",
   "pygments_lexer": "ipython3",
   "version": "3.9.12"
  }
 },
 "nbformat": 4,
 "nbformat_minor": 5
}
