{
 "cells": [
  {
   "cell_type": "raw",
   "id": "8acc2b4f",
   "metadata": {},
   "source": [
    "---\n",
    "title: \"Project proposal\"\n",
    "format: \n",
    "  html:\n",
    "    toc: true\n",
    "    toc-title: Contents\n",
    "    code-fold: show\n",
    "    self-contained: true\n",
    "jupyter: python3\n",
    "---"
   ]
  },
  {
   "cell_type": "code",
   "execution_count": null,
   "id": "1a142abc",
   "metadata": {},
   "outputs": [],
   "source": [
    "import pandas as pd"
   ]
  },
  {
   "cell_type": "code",
   "execution_count": 16,
   "id": "b63a4b77",
   "metadata": {},
   "outputs": [
    {
     "name": "stdout",
     "output_type": "stream",
     "text": [
      "492\n",
      "884\n"
     ]
    }
   ],
   "source": [
    "# load in datasets\n",
    "\n",
    "imdb_data = pd.read_csv('movie_metadata.csv')\n",
    "\n",
    "# figure out how many missing values are in our two main predictors\n",
    "print(imdb_data['budget'].isna().sum())\n",
    "print(imdb_data['gross'].isna().sum())"
   ]
  },
  {
   "cell_type": "code",
   "execution_count": 17,
   "id": "d6870f96",
   "metadata": {},
   "outputs": [],
   "source": [
    "# Dropping data that is missing 'budget' or 'gross variable'\n",
    "imdb_dropped = imdb_data.dropna(subset=['gross','budget'])"
   ]
  },
  {
   "cell_type": "code",
   "execution_count": null,
   "id": "73da9cdd",
   "metadata": {},
   "outputs": [],
   "source": []
  }
 ],
 "metadata": {
  "kernelspec": {
   "display_name": "Python 3 (ipykernel)",
   "language": "python",
   "name": "python3"
  },
  "language_info": {
   "codemirror_mode": {
    "name": "ipython",
    "version": 3
   },
   "file_extension": ".py",
   "mimetype": "text/x-python",
   "name": "python",
   "nbconvert_exporter": "python",
   "pygments_lexer": "ipython3",
   "version": "3.9.12"
  }
 },
 "nbformat": 4,
 "nbformat_minor": 5
}
